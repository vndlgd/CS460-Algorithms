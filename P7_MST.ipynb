{
 "cells": [
  {
   "cell_type": "markdown",
   "metadata": {},
   "source": [
    "# CS460 Algorithms and Their Analysis\n",
    "## Programming Assignment 7: Advanced graph algorithms -- Part 1, Minimum spanning tree\n",
    "\n",
    "**Author:** Yang Xu, Assistant Professor of Computer Science, San Diego State University\n",
    "\n",
    "**Total points: 10**"
   ]
  },
  {
   "cell_type": "code",
   "execution_count": 107,
   "metadata": {},
   "outputs": [],
   "source": [
    "from sys import maxsize "
   ]
  },
  {
   "cell_type": "markdown",
   "metadata": {
    "pycharm": {
     "name": "#%% md\n"
    }
   },
   "source": [
    "## Task 1. Import pre-defined classes\n",
    "\n",
    "**Points:1**\n",
    "\n",
    "Import `Edge` class, and run the following to create a list of edges."
   ]
  },
  {
   "cell_type": "code",
   "execution_count": 108,
   "metadata": {
    "pycharm": {
     "name": "#%%\n"
    }
   },
   "outputs": [],
   "source": [
    "from mst_util import Edge\n",
    "\n",
    "def create_examples():\n",
    "    \"\"\"\n",
    "    Create a list of edges that will be used in the assignment tasks\n",
    "    :return:\n",
    "    \"\"\"\n",
    "    vertices_string = '0 1 4\\n' \\\n",
    "                      '1 2 8\\n' \\\n",
    "                      '2 3 7\\n' \\\n",
    "                      '3 4 9\\n' \\\n",
    "                      '4 5 10\\n' \\\n",
    "                      '5 6 2\\n' \\\n",
    "                      '6 7 1\\n' \\\n",
    "                      '7 8 7\\n' \\\n",
    "                      '0 7 8\\n' \\\n",
    "                      '1 7 11\\n' \\\n",
    "                      '2 8 2\\n' \\\n",
    "                      '6 8 6\\n' \\\n",
    "                      '2 5 4\\n' \\\n",
    "                      '3 5 14'\n",
    "\n",
    "    edges = []\n",
    "    vertices = []\n",
    "    for item in vertices_string.split('\\n'):\n",
    "        s, t, w = map(int, item.split())\n",
    "        edge = Edge(s, t, w)\n",
    "        edges.append(edge)\n",
    "        if s not in vertices:\n",
    "            vertices.append(s)\n",
    "        if t not in vertices:\n",
    "            vertices.append(t)\n",
    "\n",
    "    return edges, vertices"
   ]
  },
  {
   "cell_type": "code",
   "execution_count": 109,
   "metadata": {
    "pycharm": {
     "name": "#%%\n"
    },
    "scrolled": true
   },
   "outputs": [
    {
     "name": "stdout",
     "output_type": "stream",
     "text": [
      "(u--2--v)\n",
      "(s--3--t)\n",
      "edges: [(0--4--1), (1--8--2), (2--7--3), (3--9--4), (4--10--5), (5--2--6), (6--1--7), (7--7--8), (0--8--7), (1--11--7), (2--2--8), (6--6--8), (2--4--5), (3--14--5)]\n",
      "vertices: [0, 1, 2, 3, 4, 5, 6, 7, 8]\n",
      "0\n",
      "1\n",
      "4\n"
     ]
    }
   ],
   "source": [
    "edge1 = Edge('u', 'v', 2)\n",
    "edge2 = Edge('s', 't', 3)\n",
    "\n",
    "print(edge1)\n",
    "print(edge2)\n",
    "\n",
    "edges, vertices = create_examples()\n",
    "print('edges:', edges)\n",
    "print('vertices:', vertices)\n",
    "\n",
    "e = edges[0]\n",
    "print(e.source)\n",
    "print(e.target)\n",
    "print(e.weight)"
   ]
  },
  {
   "cell_type": "markdown",
   "metadata": {},
   "source": [
    "As you can see above, you can access the `.source`, `.target`, `.weight` attributes of an edge."
   ]
  },
  {
   "cell_type": "markdown",
   "metadata": {},
   "source": [
    "Import `DisjointSet` and play with the following code.\n",
    "\n",
    "The disjoint set is implemented as a list `n` of integers, in which `n[i]` is the parent of the node at position `i`. If `n[i] == i`, it means node `i` is the root (or representative) of a set.\n",
    "\n",
    "In the following examples, `merge_set()` has the same function as the UNION() in the pseudo-code of textbook."
   ]
  },
  {
   "cell_type": "code",
   "execution_count": 110,
   "metadata": {
    "pycharm": {
     "name": "#%%\n"
    }
   },
   "outputs": [
    {
     "name": "stdout",
     "output_type": "stream",
     "text": [
      "In initial set\n",
      "parent of 1 is 1\n",
      "parent of 4 is 4\n",
      "\n",
      "After merging (0,1) and (3,4)\n",
      "parent of 1 is 0\n",
      "parent of 4 is 3\n",
      "\n",
      "Check if 0 and 3 are in the same set:\n",
      "False\n"
     ]
    }
   ],
   "source": [
    "# Do not change the test code here\n",
    "from mst_util import DisjointSet\n",
    "\n",
    "test_set = DisjointSet(5)\n",
    "print('In initial set')\n",
    "print(f'parent of 1 is {test_set.find_set(1)}')\n",
    "print(f'parent of 4 is {test_set.find_set(4)}')\n",
    "\n",
    "test_set.merge_set(0,1)\n",
    "test_set.merge_set(3,4)\n",
    "print()\n",
    "print('After merging (0,1) and (3,4)')\n",
    "print(f'parent of 1 is {test_set.find_set(1)}')\n",
    "print(f'parent of 4 is {test_set.find_set(4)}')\n",
    "\n",
    "print('\\nCheck if 0 and 3 are in the same set:')\n",
    "print(test_set.find_set(0) == test_set.find_set(3))"
   ]
  },
  {
   "cell_type": "markdown",
   "metadata": {},
   "source": [
    "---\n",
    "\n",
    "## Task 2. Implement Kruskal algorithm\n",
    "\n",
    "**Points: 4**\n",
    "\n",
    "Use the above imported data structure to implement Kruskal algorithm.\n",
    "\n",
    "Note that you can use the built-in `sorted` function (or the `.sort()` of list object to carry out an in-place sort) to sort the list of edges, based on their weights. *Hint*: can speficy the `key` parameter with a `lambda` statement."
   ]
  },
  {
   "cell_type": "code",
   "execution_count": 111,
   "metadata": {
    "pycharm": {
     "name": "#%%\n"
    }
   },
   "outputs": [],
   "source": [
    "def kruskal_mst(edges, vertex_count):\n",
    "    \"\"\"\n",
    "    :param edges: edges (list of Edge): Edges of the graph\n",
    "    :param vertex_count: vertex_count (int): Number of vertices in the graph\n",
    "    :return: the MST formed by a list of edges\n",
    "    \"\"\"\n",
    "    # Initialize the disjoint set\n",
    "    ### START YOUR CODE ###\n",
    "    forest = DisjointSet(vertex_count) # number of vertices in the graph\n",
    "    ### END YOUR CODE ###\n",
    "\n",
    "    # Sort edges based on weight\n",
    "    ### START YOUR CODE ###\n",
    "    edges = sorted(edges, key=lambda x: x.weight)\n",
    "    ### END YOUR CODE ###\n",
    "\n",
    "    mst = [] # List of edges taken, i.e., the minimum spanning tree\n",
    "\n",
    "    for edge in edges:\n",
    "        ### START YOUR CODE ###\n",
    "        set_u = forest.find_set(edge.source) # Find the set of one vertex\n",
    "        set_v = forest.find_set(edge.target) # Find the set of the other vertex\n",
    "        if set_u != set_v:\n",
    "            forest.merge_set(set_u, set_v) # Merge (union) the two sets\n",
    "\n",
    "            mst.append(Edge(edge.source, edge.target, edge.weight)) # Add the edge to mst\n",
    "\n",
    "            # Add a condition for early termination\n",
    "            if len(mst) == vertex_count-1:\n",
    "                break\n",
    "        ### END YOUR CODE ###\n",
    "\n",
    "    return mst"
   ]
  },
  {
   "cell_type": "code",
   "execution_count": 112,
   "metadata": {
    "pycharm": {
     "name": "#%%\n"
    }
   },
   "outputs": [
    {
     "name": "stdout",
     "output_type": "stream",
     "text": [
      "[(6--1--7), (5--2--6), (2--2--8), (0--4--1), (2--4--5), (2--7--3), (1--8--2), (3--9--4)]\n"
     ]
    }
   ],
   "source": [
    "# Do not change the test code here\n",
    "edges, vertices = create_examples()\n",
    "mst = kruskal_mst(edges, len(vertices))\n",
    "\n",
    "print(mst)"
   ]
  },
  {
   "cell_type": "markdown",
   "metadata": {
    "pycharm": {
     "name": "#%% md\n"
    }
   },
   "source": [
    "**Expected output**:\n",
    "\n",
    "[(6--1--7), (5--2--6), (2--2--8), (0--4--1), (2--4--5), (2--7--3), (1--8--2), (3--9--4)]\n",
    "\n",
    "---"
   ]
  },
  {
   "cell_type": "markdown",
   "metadata": {
    "pycharm": {
     "name": "#%% md\n"
    }
   },
   "source": [
    "## Task 3. Implement Prim's algorithm\n",
    "**Points: 5**\n",
    "\n",
    "Implement Prim's algorithm by using the minimum priority queue and undirected weighted graph data structure defined in `prims_utils.py`.\n",
    "Make sure `prims_utils.py` is within the same directory of this notebook.\n",
    "\n",
    "First, use the following examples to get familar with how to use the two classes.\n",
    "\n",
    "Check out the following usage of `push()` function, which allows you to enqueue elements with specified weights; `has()` to examine if element exists in the queue; `extract_min()` to extract the element with minimum key; and `update_key()` to manaully update the key of an element."
   ]
  },
  {
   "cell_type": "code",
   "execution_count": 113,
   "metadata": {
    "pycharm": {
     "name": "#%%\n"
    }
   },
   "outputs": [
    {
     "name": "stdout",
     "output_type": "stream",
     "text": [
      "[(2, 100), (1, 1000), (3, 4000), (4, 3000)]\n",
      "True\n",
      "2\n",
      "[(4, 50), (1, 1000), (3, 4000)]\n"
     ]
    }
   ],
   "source": [
    "# Do not change the test code below\n",
    "from mst_util import MinPriorityQueue, GraphUndirectedWeighted\n",
    "\n",
    "# Uses of MinPriorityQueue\n",
    "# Add elements\n",
    "test_pq = MinPriorityQueue()\n",
    "test_pq.push(1, 1000)\n",
    "test_pq.push(2, 100)\n",
    "test_pq.push(3, 4000)\n",
    "test_pq.push(4, 3000)\n",
    "print(test_pq)\n",
    "\n",
    "# Examine if element exists\n",
    "print(test_pq.has(1))\n",
    "\n",
    "# Extract minimum\n",
    "print(test_pq.extract_min())\n",
    "\n",
    "# Update key\n",
    "test_pq.update_key(4, 50) # 3000 => 50\n",
    "print(test_pq)"
   ]
  },
  {
   "cell_type": "markdown",
   "metadata": {},
   "source": [
    "Next, play with the `GraphUndirectedWeighted` class."
   ]
  },
  {
   "cell_type": "code",
   "execution_count": 114,
   "metadata": {
    "pycharm": {
     "name": "#%%\n"
    }
   },
   "outputs": [
    {
     "name": "stdout",
     "output_type": "stream",
     "text": [
      "<class 'dict'>\n",
      "{'a': {'b': 4}, 'b': {'a': 4, 'c': 8}, 'c': {'b': 8}}\n"
     ]
    }
   ],
   "source": [
    "# Do not change the test code below\n",
    "test_graph = GraphUndirectedWeighted()\n",
    "\n",
    "# Examples for adding weighted edges\n",
    "test_graph.add_edge('a', 'b', 4)\n",
    "test_graph.add_edge('b', 'c', 8)\n",
    "\n",
    "# Access the adjacency lists\n",
    "print(type(test_graph.connections))\n",
    "print(test_graph.connections)"
   ]
  },
  {
   "cell_type": "markdown",
   "metadata": {},
   "source": [
    "As you can see, the adjacency lists of the graph is stored in the `dict` object `connections`. The keys are vertices, and each value is a sub `dict` containing the adjacent vertices. The values of this each sub `dict` are the edge weights.\n",
    "\n",
    "That means you can access the weight between vertice `u` and `v` by `connections[u][v]`"
   ]
  },
  {
   "cell_type": "markdown",
   "metadata": {},
   "source": [
    "Now, you can implement the Prim's algorithm.\n",
    "\n",
    "Note that when you intialize the `keys` object, use `maxsize` as the infinity, which is imported in the first cell of notebook.\n",
    "\n",
    "`keys` and `parents` are two `dict` objects, whose keys are the vertices of the graph."
   ]
  },
  {
   "cell_type": "code",
   "execution_count": 143,
   "metadata": {
    "pycharm": {
     "name": "#%%\n"
    }
   },
   "outputs": [],
   "source": [
    "def prims_mst(graph: GraphUndirectedWeighted, root):\n",
    "    # Initialize the priority queue\n",
    "    pq = MinPriorityQueue()\n",
    "\n",
    "    # Initialize the `keys` and `parents` dict objects\n",
    "    ### START YOUR CODE ###\n",
    "    keys = dict.fromkeys(graph.connections.keys(), maxsize)\n",
    "    parents = dict.fromkeys(graph.connections.keys()) # values will be null\n",
    "    ### END YOUR CODE ###\n",
    "    total_weight = 0\n",
    "\n",
    "    # Initialize the root vertex's key\n",
    "    ### START YOUR CODE ###\n",
    "    keys[root] = 0\n",
    "    ### END YOUR CODE ###\n",
    "\n",
    "    # Push all (vertice, infinity) pairs to the queue\n",
    "    ### START YOUR CODE ###\n",
    "    for key in keys: # Hint: User a for loop over `keys` object\n",
    "        pq.push(key, maxsize)\n",
    "    ### END YOUR CODE ###\n",
    "\n",
    "    # Loop\n",
    "    while not pq.is_empty():\n",
    "        ### START YOUR CODE ###\n",
    "        u = pq.extract_min() # Extract minimum from the pq\n",
    "        total_weight += keys[u] # Add its key to total_weight\n",
    "\n",
    "        for v in graph.connections[u]: # Iterate over adjacent vertices\n",
    "            if pq.has(v) and graph.connections[u][v] < keys[v]: # Specify the condition\n",
    "                parents[v] = u # Update parent\n",
    "                keys[v] = graph.connections[u][v] # Update the key of v in `keys`\n",
    "                pq.update_key(v, keys[v]) # Manually update the position of v in pq\n",
    "        ### END YOUR CODE ###\n",
    "\n",
    "    return parents, total_weight"
   ]
  },
  {
   "cell_type": "code",
   "execution_count": 144,
   "metadata": {
    "pycharm": {
     "name": "#%%\n"
    }
   },
   "outputs": [
    {
     "name": "stdout",
     "output_type": "stream",
     "text": [
      "{'a': None, 'b': 'a', 'c': 'f', 'd': 'c', 'e': 'd', 'f': 'g', 'g': 'h', 'i': 'c', 'h': 'a'}\n",
      "37\n"
     ]
    }
   ],
   "source": [
    "# Do not change the test code here\n",
    "graph = GraphUndirectedWeighted()\n",
    "graph.add_edge('a', 'b', 4)\n",
    "graph.add_edge('b', 'c', 8)\n",
    "graph.add_edge('c', 'd', 7)\n",
    "graph.add_edge('d', 'e', 9)\n",
    "graph.add_edge('e', 'f', 10)\n",
    "graph.add_edge('d', 'f', 14)\n",
    "graph.add_edge('c', 'f', 4)\n",
    "graph.add_edge('f', 'g', 2)\n",
    "graph.add_edge('c', 'i', 2)\n",
    "graph.add_edge('g', 'i', 6)\n",
    "graph.add_edge('g', 'h', 1)\n",
    "graph.add_edge('h', 'i', 7)\n",
    "graph.add_edge('h', 'b', 11)\n",
    "graph.add_edge('h', 'a', 8)\n",
    "\n",
    "parents, total_weight = prims_mst(graph, 'a')\n",
    "\n",
    "print(parents)\n",
    "print(total_weight)"
   ]
  },
  {
   "cell_type": "markdown",
   "metadata": {
    "pycharm": {
     "name": "#%% md\n"
    }
   },
   "source": [
    "**Expected output**\n",
    "\n",
    "{'a': None, 'b': 'a', 'c': 'f', 'd': 'c', 'e': 'd', 'f': 'g', 'g': 'h', 'i': 'c', 'h': 'a'}\n",
    "37"
   ]
  },
  {
   "cell_type": "code",
   "execution_count": null,
   "metadata": {},
   "outputs": [],
   "source": []
  }
 ],
 "metadata": {
  "kernelspec": {
   "display_name": "Python 3 (ipykernel)",
   "language": "python",
   "name": "python3"
  },
  "language_info": {
   "codemirror_mode": {
    "name": "ipython",
    "version": 3
   },
   "file_extension": ".py",
   "mimetype": "text/x-python",
   "name": "python",
   "nbconvert_exporter": "python",
   "pygments_lexer": "ipython3",
   "version": "3.9.12"
  }
 },
 "nbformat": 4,
 "nbformat_minor": 1
}
