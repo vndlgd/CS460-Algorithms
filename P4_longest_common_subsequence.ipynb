{
 "cells": [
  {
   "cell_type": "markdown",
   "metadata": {},
   "source": [
    "# CS460 Algorithms and Their Analysis\n",
    "## Programming Assignment 4: Dynamic programming algorithms -- Longest common subsequence problem\n",
    "\n",
    "**Author:** Yang Xu, Assistant Professor of Computer Science, San Diego State University\n",
    "\n",
    "**Total points: 8**"
   ]
  },
  {
   "cell_type": "markdown",
   "metadata": {},
   "source": [
    "## Task 1: Longest common subsequence problem\n",
    "**Points: 4**\n",
    "\n",
    "Implement the basic solution for longest common subsequence problem, which outputs the length value.\n",
    "\n",
    "**Note:** The 2-d array `L` and its element `L[m][n]` containing the length are returned. `L` will be used for the next task."
   ]
  },
  {
   "cell_type": "code",
   "execution_count": 213,
   "metadata": {
    "pycharm": {
     "name": "#%%\n"
    }
   },
   "outputs": [],
   "source": [
    "def LCS_basic(x, y):\n",
    "    m = len(x) \n",
    "    n = len(y)\n",
    "\n",
    "    # declaring the array for storing the dp values\n",
    "    ### START YOUR CODE ###\n",
    "    L = [[None for i in range(n+1)] for i in range(m+1)] # Initialize L to a list of list\n",
    "    ### END YOUR CODE ###\n",
    "\n",
    "    ### START YOUR CODE ###\n",
    "    for i in range(m+1): # Specify the ranges\n",
    "        for j in range(n+1):\n",
    "            if i == 0 or j == 0: # Implement the if-else structure following the pseudo code\n",
    "                L[i][j] = 0\n",
    "            elif x[i-1] == y[j-1]:\n",
    "                L[i][j] = L[i-1][j-1]+1\n",
    "            else: \n",
    "                L[i][j] = max(L[i][j-1], L[i-1][j])\n",
    "    ### END YOUR CODE ###\n",
    "\n",
    "    return L, L[m][n]"
   ]
  },
  {
   "cell_type": "code",
   "execution_count": 214,
   "metadata": {
    "pycharm": {
     "name": "#%%\n"
    }
   },
   "outputs": [
    {
     "name": "stdout",
     "output_type": "stream",
     "text": [
      "4\n",
      "20\n"
     ]
    }
   ],
   "source": [
    "# Do not change the test code here\n",
    "a = 'AGGTAB'\n",
    "b = 'GXTXAYB'\n",
    "_, length1 = LCS_basic(a, b)\n",
    "print(length1)\n",
    "\n",
    "aa = 'ACCGGTCGAGTGCGCGGAAGCCGGCCGAA'\n",
    "bb = 'GTCGTTCGGAATGCCGTTGCTCTGTAAA'\n",
    "_, length2 = LCS_basic(aa, bb)\n",
    "print(length2)"
   ]
  },
  {
   "cell_type": "markdown",
   "metadata": {},
   "source": [
    "**Expected output**\n",
    "\n",
    "4\\\n",
    "20\n",
    "\n",
    "---"
   ]
  },
  {
   "cell_type": "markdown",
   "metadata": {},
   "source": [
    "## Task 2: Get the string of common subsequence\n",
    "**Points: 4**\n",
    "\n",
    "Given the results from `LCS_basic()`, return the string of common subsequence. Note that this should be an interative algorithm, which is different from the `PRINT-LCS()` procedure in the textbook.\n",
    "\n",
    "*Hint:* It takes the output `L` from the previous function as input. The function uses `seq` to store the common subsequence, and starts at the last characters of `x` and `y`. If two letters match, it will be added to the head of seq. Otherwise up or left."
   ]
  },
  {
   "cell_type": "code",
   "execution_count": 237,
   "metadata": {},
   "outputs": [],
   "source": [
    "def get_LCS(L, x, y):\n",
    "    m = len(x)\n",
    "    n = len(y)\n",
    "\n",
    "    seq = ''\n",
    "    ### START YOUR CODE ###\n",
    "    i, j = m, n # Initialize correctly\n",
    "    while i > 0 and j > 0:\n",
    "        # The code structure here is similar to LCS_basic(), but with different loop order.\n",
    "        if x[i-1] == y[j-1]:\n",
    "            seq += x[i-1]\n",
    "            i -= 1\n",
    "            j -= 1\n",
    "        elif L[i-1][j] > L[i][j-1]:\n",
    "            i -= 1\n",
    "        else:\n",
    "            j -= 1\n",
    "        ### END YOUR CODE ###\n",
    "\n",
    "    return seq[::-1]"
   ]
  },
  {
   "cell_type": "code",
   "execution_count": 238,
   "metadata": {
    "pycharm": {
     "name": "#%%\n"
    }
   },
   "outputs": [
    {
     "name": "stdout",
     "output_type": "stream",
     "text": [
      "GTAB\n",
      "GTCGTCGGAAGCCGGCCGAA\n"
     ]
    }
   ],
   "source": [
    "# Do not change the test code here\n",
    "a = 'AGGTAB'\n",
    "b = 'GXTXAYB'\n",
    "L1, _ = LCS_basic(a, b)\n",
    "lcs1 = get_LCS(L1, a, b)\n",
    "print(lcs1)\n",
    "\n",
    "aa = 'ACCGGTCGAGTGCGCGGAAGCCGGCCGAA'\n",
    "bb = 'GTCGTTCGGAATGCCGTTGCTCTGTAAA'\n",
    "L2, _ = LCS_basic(aa, bb)\n",
    "lcs2 = get_LCS(L2, aa, bb)\n",
    "print(lcs2)"
   ]
  },
  {
   "cell_type": "markdown",
   "metadata": {
    "pycharm": {
     "name": "#%% md\n"
    }
   },
   "source": [
    "**Expected output**:\n",
    "\n",
    "GTAB\n",
    "GTCGTCGGAAGCCGGCCGAA"
   ]
  }
 ],
 "metadata": {
  "kernelspec": {
   "display_name": "Python 3 (ipykernel)",
   "language": "python",
   "name": "python3"
  },
  "language_info": {
   "codemirror_mode": {
    "name": "ipython",
    "version": 3
   },
   "file_extension": ".py",
   "mimetype": "text/x-python",
   "name": "python",
   "nbconvert_exporter": "python",
   "pygments_lexer": "ipython3",
   "version": "3.9.10"
  }
 },
 "nbformat": 4,
 "nbformat_minor": 1
}
