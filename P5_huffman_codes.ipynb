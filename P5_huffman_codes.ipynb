{
 "cells": [
  {
   "cell_type": "markdown",
   "metadata": {},
   "source": [
    "# CS460 Algorithms and Their Analysis\n",
    "## Programming Assignment 5: Huffman codes -- An example of greedy algorithms\n",
    "\n",
    "**Author:** Yang Xu, Assistant Professor of Computer Science, San Diego State University\n",
    "\n",
    "**Total points: 15**"
   ]
  },
  {
   "cell_type": "code",
   "execution_count": 3,
   "metadata": {},
   "outputs": [],
   "source": [
    "import heapq\n",
    "from collections import Counter"
   ]
  },
  {
   "cell_type": "markdown",
   "metadata": {
    "pycharm": {
     "name": "#%% md\n"
    }
   },
   "source": [
    "## Task 1. Define the TreeNode class\n",
    "\n",
    "**Points:2**\n",
    "\n",
    "The `TreeNode` class implements the node in a binary tree, which stores the target **charactor** to be encoded, the **frequency** of charactor, and the **left** and **right** children nodes.\n",
    "\n",
    "You need to implement the following:\n",
    "- In `__init__()`, initialize the attributes using the parameters. The left and right children should be `None`.\n",
    "- In `__lt__()`, return if `self.freq` is less than than `other.freq`.\n",
    "- In `__eq__()`, return if `self.freq` equals `other.freq`."
   ]
  },
  {
   "cell_type": "code",
   "execution_count": 6,
   "metadata": {
    "pycharm": {
     "name": "#%%\n"
    }
   },
   "outputs": [],
   "source": [
    "class TreeNode:\n",
    "    def __init__(self, char, freq):\n",
    "        ### START YOUR CODE ###\n",
    "        self.char = char\n",
    "        self.freq = freq\n",
    "        self.left = None\n",
    "        self.right = None\n",
    "        ### END YOUR CODE ###\n",
    "\n",
    "    # defining comparators less than and equal to\n",
    "    def __lt__(self, other):\n",
    "        ### START YOUR CODE ###\n",
    "        return self.freq < other.freq\n",
    "        ### END YOUR CODE ###\n",
    "\n",
    "    def __eq__(self, other):\n",
    "        if(other == None):\n",
    "            return False\n",
    "        if(not isinstance(other, TreeNode)):\n",
    "            return False\n",
    "        ### YOUR YOUR CODE ###\n",
    "        return (self.freq == other.freq)\n",
    "        ### END YOUR CODE ###\n",
    "\n",
    "    def __repr__(self):\n",
    "        return f'Node({self.char}, {self.freq})'"
   ]
  },
  {
   "cell_type": "code",
   "execution_count": 7,
   "metadata": {
    "pycharm": {
     "name": "#%%\n"
    }
   },
   "outputs": [
    {
     "name": "stdout",
     "output_type": "stream",
     "text": [
      "False\n",
      "True\n"
     ]
    }
   ],
   "source": [
    "# Do not change the test code here\n",
    "node1 = TreeNode('a', 45)\n",
    "node2 = TreeNode('b', 13)\n",
    "\n",
    "print(node1 == node2)\n",
    "print(node1 > node2)"
   ]
  },
  {
   "cell_type": "markdown",
   "metadata": {},
   "source": [
    "## Task 2. Count charactor frequencies in string\n",
    "**Points:2**\n",
    "\n",
    "Implement a function that returns the frequencies for all charactors in the input string, including whitespace and punctuations.\n",
    "\n",
    "The return type should be a `dict` or a `collections.Counter` object."
   ]
  },
  {
   "cell_type": "code",
   "execution_count": 12,
   "metadata": {
    "pycharm": {
     "name": "#%%\n"
    }
   },
   "outputs": [],
   "source": [
    "def create_frequency_dict(text):\n",
    "    ### START YOUR CODE ###\n",
    "    frequency = {}\n",
    "    for character in text:\n",
    "        if character in frequency: # Update the frequency (You can use if statement)\n",
    "            frequency[character] += 1 # if in dict already, increase by 1\n",
    "        else:\n",
    "            frequency[character] = 1 # if not in dict, set to 1\n",
    "    ### START YOUR CODE ###\n",
    "    return frequency"
   ]
  },
  {
   "cell_type": "code",
   "execution_count": 13,
   "metadata": {
    "pycharm": {
     "name": "#%%\n"
    }
   },
   "outputs": [
    {
     "name": "stdout",
     "output_type": "stream",
     "text": [
      "3 5 6 5\n"
     ]
    }
   ],
   "source": [
    "# Do not change the test code here\n",
    "sample_text = 'No, it is a word. What matters is the connection the word implies.'\n",
    "freq = create_frequency_dict(sample_text)\n",
    "\n",
    "print(freq['a'], freq['e'], freq['i'], freq['o'])"
   ]
  },
  {
   "cell_type": "markdown",
   "metadata": {},
   "source": [
    "**Expected output**:\n",
    "\n",
    "3 5 6 5\n",
    "\n",
    "---\n",
    "\n",
    "## Task 3. Create tree from frequency dict\n",
    "**Points: 2**\n",
    "\n",
    "The tree is represented by a list, with the use of `heapq` moddule.\n",
    "- First, create a node use each (key, value) pair of the frequency dict.\n",
    "- Then, use `heapq.heappush()` to insert all the nodes to the `tree` list, while maintaining the minimum heap invariant, that is, `heap[k] <= heap[2*k+1]` and `heap[k] <= heap[2*k+2]`.\n",
    "\n",
    "See the document for more information: <https://docs.python.org/3/library/heapq.html>\n"
   ]
  },
  {
   "cell_type": "code",
   "execution_count": 20,
   "metadata": {
    "pycharm": {
     "name": "#%%\n"
    }
   },
   "outputs": [],
   "source": [
    "def create_tree(frequency):\n",
    "    tree = []\n",
    "    for key, val in frequency.items():\n",
    "        ### START YOUR CODE ###\n",
    "        node = TreeNode(key,val) # Create a node\n",
    "        heapq.heappush(tree, node) # Insert the node to tree\n",
    "        ### END YOUR CODE ###\n",
    "    return tree"
   ]
  },
  {
   "cell_type": "code",
   "execution_count": 21,
   "metadata": {
    "pycharm": {
     "name": "#%%\n"
    }
   },
   "outputs": [
    {
     "name": "stdout",
     "output_type": "stream",
     "text": [
      "[Node(N, 1), Node(p, 1), Node(,, 1), Node(l, 1), Node(W, 1)]\n"
     ]
    }
   ],
   "source": [
    "# Do not change the test code here\n",
    "sample_text = 'No, it is a word. What matters is the connection the word implies.'\n",
    "freq = create_frequency_dict(sample_text)\n",
    "tree = create_tree(freq)\n",
    "\n",
    "print(sorted(tree, key=lambda x: x.freq)[:5])"
   ]
  },
  {
   "cell_type": "markdown",
   "metadata": {},
   "source": [
    "**Expected output**:\n",
    "\n",
    "[Node(N, 1), Node(p, 1), Node(,, 1), Node(l, 1), Node(W, 1)]\n",
    "\n",
    "---\n",
    "\n",
    "## Task 4. Merge nodes in tree\n",
    "\n",
    "**Points: 4**\n",
    "\n",
    "Implement the following function, in which a `while` loop is used to keep taking out two minimum elements from the tree, by calling `heapq.heappop()`, and then merging them to a new node, and lastly inserting the new node back to tree.\n",
    "\n",
    "Note that:\n",
    "- The new node does not need to have a `self.char` attribute, so you can let it be `None`.\n",
    "- Remember to specify the left and right children nodes correctly for the new node.\n",
    "- The function changes `tree` in place. So, you don't need to return `tree`."
   ]
  },
  {
   "cell_type": "code",
   "execution_count": 30,
   "metadata": {
    "pycharm": {
     "name": "#%%\n"
    }
   },
   "outputs": [],
   "source": [
    "def merge_nodes(tree):\n",
    "    ### START YOUR CODE ###\n",
    "    while(len(tree)>1): # Specify the loop condition (you can use while or for)\n",
    "        node1 = heapq.heappop(tree)\n",
    "        node2 = heapq.heappop(tree)\n",
    "\n",
    "        merged = TreeNode(None, node1.freq + node2.freq) # Create a new node by merging the two popped nodes\n",
    "        # Remember to specify the left and right children nodes for merged\n",
    "        merged.left = node1\n",
    "        merged.right = node2\n",
    "\n",
    "        heapq.heappush(tree, merged) # Insert the new node to the tree\n",
    "    ### END YOUR CODE ###"
   ]
  },
  {
   "cell_type": "code",
   "execution_count": 31,
   "metadata": {
    "pycharm": {
     "name": "#%%\n"
    }
   },
   "outputs": [
    {
     "name": "stdout",
     "output_type": "stream",
     "text": [
      "Before merge, len(tree) =  20\n",
      "\n",
      "After merge, len(tree) =  1\n"
     ]
    }
   ],
   "source": [
    "# Do not change the test code here\n",
    "sample_text = 'No, it is a word. What matters is the connection the word implies.'\n",
    "freq = create_frequency_dict(sample_text)\n",
    "tree = create_tree(freq)\n",
    "print('Before merge, len(tree) = ', len(tree))\n",
    "\n",
    "print()\n",
    "merge_nodes(tree)\n",
    "print('After merge, len(tree) = ', len(tree))"
   ]
  },
  {
   "cell_type": "markdown",
   "metadata": {},
   "source": [
    "**Expected output**:\n",
    "\n",
    "Before merge, len(tree) =  20\\\n",
    "After merge, len(tree) =  1\n",
    "\n",
    "---\n",
    "\n",
    "## Task 5. Get codes from the tree\n",
    "**Points: 5**\n",
    "\n",
    "Obtain the `Huffman` codes for each character in the leaf nodes of the merged tree. The returned codes are stored in a dict object `codes`, whose key (`str`) and value (`str`) are the character and code, respectively.\n",
    "\n",
    "`make_codes_helper()` is a recursive function that takes a tree node, `codes`, and `current_code` as inputs. `current_code` is a `str` object that records the code for the current node (which can be an internal node). The function needs be called on the left child and right child nodes recursively. For the left child call, `current_code` needs increment by appending a \"0\", because this is what the left branch means; and append an \"1\" for the right child call."
   ]
  },
  {
   "cell_type": "code",
   "execution_count": 36,
   "metadata": {
    "pycharm": {
     "name": "#%%\n"
    }
   },
   "outputs": [],
   "source": [
    "def make_codes(tree):\n",
    "    codes = {} # key (str) and value (str) are the character and code\n",
    "    ### START YOUR CODE ###\n",
    "    root = heapq.heappop(tree) # Get the root node\n",
    "    # current_code is a string, so initially should be empty\n",
    "    current_code = \"\" # Initialize the current code\n",
    "    make_codes_helper(root, codes, current_code) # initial call on the root node\n",
    "    ### END YOUR CODE ###\n",
    "    return codes\n",
    "\n",
    "def make_codes_helper(node, codes, current_code):\n",
    "    if(node == None):\n",
    "        ### START YOUR CODE ###\n",
    "        return # What should you return if the node is empty?\n",
    "        ### END YOUR CODE ###\n",
    "    if(node.char != None):\n",
    "        ### START YOUR CODE ###\n",
    "        # For leaf node, copy the current code to the correct position in codes\n",
    "        codes[node.char] = current_code\n",
    "        ### END YOUR CODE ###\n",
    "\n",
    "    ### START YOUR CODE ###\n",
    "    # Make a recursive call to the left child node, with the updated current code\n",
    "    make_codes_helper(node.left, codes, current_code + '0')\n",
    "    # Make a recursive call to the right child node, with the updated current code\n",
    "    make_codes_helper(node.right, codes, current_code + '1')\n",
    "    ### END YOUR CODE ###\n",
    "\n",
    "def print_codes(codes):\n",
    "    codes_sorted = sorted([(k, v) for k, v in codes.items()], key = lambda x: len(x[1]))\n",
    "    for k, v in codes_sorted:\n",
    "        print(f'\"{k}\" -> {v}')"
   ]
  },
  {
   "cell_type": "code",
   "execution_count": 37,
   "metadata": {
    "pycharm": {
     "name": "#%%\n"
    }
   },
   "outputs": [
    {
     "name": "stdout",
     "output_type": "stream",
     "text": [
      "Example 1:\n",
      "\"i\" -> 001\n",
      "\"t\" -> 010\n",
      "\" \" -> 111\n",
      "\"h\" -> 0000\n",
      "\"n\" -> 0001\n",
      "\"s\" -> 0111\n",
      "\"e\" -> 1011\n",
      "\"o\" -> 1100\n",
      "\"l\" -> 01100\n",
      "\"m\" -> 01101\n",
      "\"w\" -> 10000\n",
      "\"c\" -> 10001\n",
      "\"d\" -> 10010\n",
      "\".\" -> 10100\n",
      "\"r\" -> 11010\n",
      "\"a\" -> 11011\n",
      "\"N\" -> 100110\n",
      "\",\" -> 100111\n",
      "\"W\" -> 101010\n",
      "\"p\" -> 101011\n",
      "\n",
      "Example 2:\n",
      "\"a\" -> 0\n",
      "\"c\" -> 100\n",
      "\"b\" -> 101\n",
      "\"d\" -> 111\n",
      "\"f\" -> 1100\n",
      "\"e\" -> 1101\n"
     ]
    }
   ],
   "source": [
    "# Do not change the test code here\n",
    "sample_text = 'No, it is a word. What matters is the connection the word implies.'\n",
    "freq = create_frequency_dict(sample_text)\n",
    "tree = create_tree(freq)\n",
    "merge_nodes(tree)\n",
    "codes = make_codes(tree)\n",
    "print('Example 1:')\n",
    "print_codes(codes)\n",
    "\n",
    "print()\n",
    "freq2 = {'a': 45, 'b': 13, 'c': 12, 'd': 16, 'e': 9, 'f': 5}\n",
    "tree2 = create_tree(freq2)\n",
    "merge_nodes(tree2)\n",
    "code2 = make_codes(tree2)\n",
    "print('Example 2:')\n",
    "print_codes(code2)"
   ]
  },
  {
   "cell_type": "markdown",
   "metadata": {
    "pycharm": {
     "name": "#%% md\n"
    }
   },
   "source": [
    "**Expected output**\n",
    "\n",
    "Example 1:\\\n",
    "\"i\" -> 001\\\n",
    "\"t\" -> 010\\\n",
    "\" \" -> 111\\\n",
    "\"h\" -> 0000\\\n",
    "\"n\" -> 0001\\\n",
    "\"s\" -> 0111\\\n",
    "\"e\" -> 1011\\\n",
    "\"o\" -> 1100\\\n",
    "\"l\" -> 01100\\\n",
    "\"m\" -> 01101\\\n",
    "\"w\" -> 10000\\\n",
    "\"c\" -> 10001\\\n",
    "\"d\" -> 10010\\\n",
    "\".\" -> 10100\\\n",
    "\"r\" -> 11010\\\n",
    "\"a\" -> 11011\\\n",
    "\"N\" -> 100110\\\n",
    "\",\" -> 100111\\\n",
    "\"W\" -> 101010\\\n",
    "\"p\" -> 101011\n",
    "\n",
    "Example 2:\\\n",
    "\"a\" -> 0\\\n",
    "\"c\" -> 100\\\n",
    "\"b\" -> 101\\\n",
    "\"d\" -> 111\\\n",
    "\"f\" -> 1100\\\n",
    "\"e\" -> 1101"
   ]
  }
 ],
 "metadata": {
  "kernelspec": {
   "display_name": "Python 3 (ipykernel)",
   "language": "python",
   "name": "python3"
  },
  "language_info": {
   "codemirror_mode": {
    "name": "ipython",
    "version": 3
   },
   "file_extension": ".py",
   "mimetype": "text/x-python",
   "name": "python",
   "nbconvert_exporter": "python",
   "pygments_lexer": "ipython3",
   "version": "3.9.10"
  }
 },
 "nbformat": 4,
 "nbformat_minor": 1
}
