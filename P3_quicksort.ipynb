{
 "cells": [
  {
   "cell_type": "markdown",
   "id": "71cec549-bfd3-4647-b153-637b45c7776d",
   "metadata": {},
   "source": [
    "# CS460 Algorithms and Their Analysis \n",
    "## Programming Assignment 3: Quick sort algorthm\n",
    "\n",
    "**Author:** Yang Xu, Assistant Professor of Computer Science, San Diego State University\n",
    "\n",
    "**Total points: 8 + 2(bonus)**"
   ]
  },
  {
   "cell_type": "code",
   "execution_count": 95,
   "id": "9c5c0e9a-90a5-47e0-8be6-5bb1d6338cf5",
   "metadata": {},
   "outputs": [],
   "source": [
    "import numpy as np\n",
    "import random\n",
    "import timeit"
   ]
  },
  {
   "cell_type": "markdown",
   "id": "721e45e4-da1d-4b3f-abee-821a5f4142ca",
   "metadata": {},
   "source": [
    "## Task 1: Implement the partition() function\n",
    "**Points: 4**\n",
    "\n",
    "Follow the lecture slides and implement the algorithm. Note that Python is 0 indexing, not 1 indexing.\n",
    "\n",
    "*Hint*: Python provides a convenient one-line code to exchange two elements in array: `arr[i], arr[j] = arr[j], arr[i]`."
   ]
  },
  {
   "cell_type": "code",
   "execution_count": 209,
   "id": "168511d2-3c0d-4743-ae61-d8047a2d928d",
   "metadata": {},
   "outputs": [],
   "source": [
    "def partition(arr, p, r):\n",
    "    \"\"\"\n",
    "    Params:\n",
    "        arr: list, the input array to be partitioned\n",
    "        p: int, starting index\n",
    "        r: int, ending index\n",
    "    Return:\n",
    "        i: the index of the pivot element\n",
    "    \"\"\"\n",
    "    pivot = arr[r]\n",
    "    i = p - 1\n",
    "\n",
    "    ### START YOUR CODE ###\n",
    "    for j in range(p, r):\n",
    "        if arr[j] <= pivot:\n",
    "            i = i + 1\n",
    "            arr[i], arr[j] = arr[j], arr[i]\n",
    "    arr[i + 1], arr[r] = arr[r], arr[i + 1]\n",
    "    ### END YOUR CODE ###\n",
    "\n",
    "    return i+1"
   ]
  },
  {
   "cell_type": "code",
   "execution_count": 210,
   "id": "b028c543-36d9-4a0d-948d-c0829a348229",
   "metadata": {},
   "outputs": [
    {
     "name": "stdout",
     "output_type": "stream",
     "text": [
      "Before partition: arr1 = [2, 8, 7, 1, 3, 5, 6, 4]\n",
      "After partition: arr1 = [2, 1, 3, 4, 7, 5, 6, 8], pivot index = 3\n",
      "Before partition: arr2 = [ 6 12 13  9 10 12  6 16  1 17  2 13  8 14  7]\n",
      "After partition: arr2 = [ 6  6  1  2  7 12 12 16 13 17  9 13  8 14 10], pivot index = 4\n"
     ]
    }
   ],
   "source": [
    "# Do NOT change the test code here.\n",
    "\n",
    "arr1 = [2,8,7,1,3,5,6,4]\n",
    "print(f'Before partition: arr1 = {arr1}')\n",
    "\n",
    "idx = partition(arr1, 0, len(arr1)-1)\n",
    "print(f'After partition: arr1 = {arr1}, pivot index = {idx}')\n",
    "\n",
    "np.random.seed(1)\n",
    "arr2 = np.random.randint(1, 20, 15)\n",
    "print(f'Before partition: arr2 = {arr2}')\n",
    "\n",
    "idx = partition(arr2, 0, len(arr2)-1)\n",
    "print(f'After partition: arr2 = {arr2}, pivot index = {idx}')"
   ]
  },
  {
   "cell_type": "markdown",
   "id": "28a5b719-5b8f-4221-b697-36ae6b41d942",
   "metadata": {},
   "source": [
    "**Expected output:** \n",
    "\n",
    "Before partition: arr1 = [2, 8, 7, 1, 3, 5, 6, 4]\\\n",
    "After partition: arr1 = [2, 1, 3, 4, 7, 5, 6, 8], pivot index = 3\\\n",
    "Before partition: arr2 = [ 6 12 13  9 10 12  6 16  1 17  2 13  8 14  7]\\\n",
    "After partition: arr2 = [ 6  6  1  2  7 12 12 16 13 17  9 13  8 14 10], pivot index = 4\n",
    "\n",
    "\n",
    "---\n",
    "## Task 2: Implement the randomized version of partition\n",
    "\n",
    "**Points 2**"
   ]
  },
  {
   "cell_type": "code",
   "execution_count": 211,
   "id": "900c1995-a3ed-4329-b08b-0ecae3e24e33",
   "metadata": {},
   "outputs": [],
   "source": [
    "def randomized_partition(arr, p, r, seed=0):\n",
    "    random.seed(seed)\n",
    "\n",
    "    ### START YOUR CODE ###\n",
    "    # Use random.randint()\n",
    "    pivot = random.randint(p, r)\n",
    "    arr[r], arr[pivot] = arr[pivot], arr[r]\n",
    "    return partition(arr, p, r) # Specify the correct return \n",
    "    ### END YOUR CODE ###"
   ]
  },
  {
   "cell_type": "code",
   "execution_count": 212,
   "id": "1775764a-71ab-43b2-83d0-fb38a3725e51",
   "metadata": {},
   "outputs": [
    {
     "name": "stdout",
     "output_type": "stream",
     "text": [
      "Before partition: arr = [ 6 12 13  9 10 12  6 16  1 17  2 13  8 14  7]\n",
      "After randomized partition: arr = [ 6 12 13  9 10 12  6  1  2 13  8  7 14 17 16], pivot index = 12\n"
     ]
    }
   ],
   "source": [
    "# Do NOT change the test code here.\n",
    "np.random.seed(1)\n",
    "arr = np.random.randint(1, 20, 15)\n",
    "print(f'Before partition: arr = {arr}')\n",
    "\n",
    "idx = randomized_partition(arr, 0, len(arr)-1, seed=0)\n",
    "print(f'After randomized partition: arr = {arr}, pivot index = {idx}')"
   ]
  },
  {
   "cell_type": "markdown",
   "id": "98840826-6d14-4aa2-863f-ba54575023f1",
   "metadata": {},
   "source": [
    "**Expected output:** \n",
    "\n",
    "Before partition: arr = [ 6 12 13  9 10 12  6 16  1 17  2 13  8 14  7]\\\n",
    "After randomized partition: arr = [ 6 12 13  9 10 12  6  1  2 13  8  7 14 17 16], pivot index = 12\n",
    "\n",
    "---\n",
    "## Task 3: Implement quicksort()\n",
    "**Points: 2**\n",
    "\n",
    "Implement the `quicksort()` function that takes one additional boolean argument `randomized`, which indicates whether `partition()` or `randomized_partition()` needs be called. "
   ]
  },
  {
   "cell_type": "code",
   "execution_count": 213,
   "id": "000393aa-1001-4c25-9567-95a021562b51",
   "metadata": {},
   "outputs": [],
   "source": [
    "def quicksort(A, p, r, randomized = False):\n",
    "    if p < r:\n",
    "        ### START YOUR CODE ### \n",
    "        if randomized:\n",
    "            q = randomized_partition(A, p, r)\n",
    "        else:\n",
    "            q = partition(A, p, r)\n",
    "        ### END YOUR CODE ###\n",
    "        \n",
    "        ### START YOUR CODE ### \n",
    "        quicksort(A, p, q-1, randomized = randomized)\n",
    "        quicksort(A, q+1, r, randomized = randomized)\n",
    "        ### END YOUR CODE ###"
   ]
  },
  {
   "cell_type": "code",
   "execution_count": 214,
   "id": "827e460b-fee5-4c1d-9581-ce38e044c168",
   "metadata": {},
   "outputs": [
    {
     "name": "stdout",
     "output_type": "stream",
     "text": [
      "Original arr = [ 6 12 13  9 10 12  6 16  1 17  2 13  8 14  7]\n",
      "Sorted by quicksort(): [ 1  2  6  6  7  8  9 10 12 12 13 13 14 16 17]\n",
      "Sorted by randomized_quicksort(): [ 1  2  6  6  7  8  9 10 12 12 13 13 14 16 17]\n"
     ]
    }
   ],
   "source": [
    "# Do NOT change the test code here.\n",
    "\n",
    "np.random.seed(1)\n",
    "arr = np.random.randint(1, 20, 15)\n",
    "print(f'Original arr = {arr}')\n",
    "\n",
    "arr1 = arr.copy()\n",
    "quicksort(arr1, 0, len(arr1)-1)\n",
    "print(f'Sorted by quicksort(): {arr1}')\n",
    "\n",
    "arr2 = arr.copy()\n",
    "quicksort(arr2, 0, len(arr2)-1, randomized=True)\n",
    "print(f'Sorted by randomized_quicksort(): {arr2}')\n"
   ]
  },
  {
   "cell_type": "markdown",
   "id": "dc74c13b-c47c-433a-b2b9-703120817abe",
   "metadata": {},
   "source": [
    "**Expected output:** \n",
    "\n",
    "Original arr = [ 6 12 13  9 10 12  6 16  1 17  2 13  8 14  7]\\\n",
    "Sorted by quicksort(): [ 1  2  6  6  7  8  9 10 12 12 13 13 14 16 17]\\\n",
    "Sorted by randomized_quicksort(): [ 1  2  6  6  7  8  9 10 12 12 13 13 14 16 17]\n",
    "\n",
    "---\n",
    "## Task 4: Compare the running times\n",
    "\n",
    "Run the following testing code to see how fast the two versions of quicksort run against the built-in `sorted()` function of Python.\n",
    "\n",
    "**Note**: This part does not have expected output. The running times will differ from machine to machine. Observe the differences, and think about whether you can further improve the algorithm."
   ]
  },
  {
   "cell_type": "code",
   "execution_count": 215,
   "id": "fbef8aaf-9388-49e8-9602-ad536f2341b6",
   "metadata": {},
   "outputs": [
    {
     "name": "stdout",
     "output_type": "stream",
     "text": [
      "quicksort(): 0.08448454200060951\n",
      "randomized_quicksort(): 0.6106946669997342\n",
      "built-in sorted(): 0.010379250000369211\n"
     ]
    }
   ],
   "source": [
    "# Do NOT change the test code here.\n",
    "def test1():\n",
    "    np.random.seed(1)\n",
    "    arr = np.random.randint(1000, size=100).tolist()\n",
    "    quicksort(arr, 0, len(arr)-1, False)\n",
    "\n",
    "def test2():\n",
    "    np.random.seed(1)\n",
    "    arr = np.random.randint(1000, size=100).tolist()\n",
    "    quicksort(arr, 0, len(arr)-1, True)\n",
    "\n",
    "def test3():\n",
    "    np.random.seed(1)\n",
    "    arr = np.random.randint(1000, size=100).tolist()\n",
    "    sorted(arr)\n",
    "\n",
    "print('quicksort():', timeit.timeit('test1()', globals=globals(), number=1000))\n",
    "print('randomized_quicksort():', timeit.timeit('test2()', globals=globals(), number=1000))\n",
    "print('built-in sorted():', timeit.timeit('test3()', globals=globals(), number=1000))"
   ]
  },
  {
   "cell_type": "markdown",
   "id": "b704d037",
   "metadata": {},
   "source": [
    "---\n",
    "\n",
    "## Task 5 (Bonus): Implement quicksort with a compact style\n",
    "**points: 2**\n",
    "\n",
    "*Hint*: For the boundary case, where the input array contains only 1 element, simply return the whole array. For the recursive conditions, you first specify an arbitrary element as the *pivot*, for example, the first or last element. Then you can use *list comprehensions*, which is a compact syntax provided in Python, to find all the elements that are smaller than or equal to *pivot*, and store them in an array `lower`. Similarly, you find all the elements that are greater than *pivot* and store them in array `higher`. Lastly, you call quicksort recursively on `lower` and `higher`, and combine the results with a single element array `[pivot]`, you will get the final sorted array."
   ]
  },
  {
   "cell_type": "code",
   "execution_count": 216,
   "id": "a96eac65-e221-418f-828c-003fc36d5db2",
   "metadata": {},
   "outputs": [],
   "source": [
    "def quicksort_v2(arr):\n",
    "    \"\"\"\n",
    "    arr: list\n",
    "    \"\"\"\n",
    "    if len(arr) <= 1:\n",
    "        ### START YOUR CODE ###\n",
    "        return arr\n",
    "        ### END YOUR CODE ###\n",
    "    else:\n",
    "        ### START YOUR CODE ###\n",
    "        pivot = arr[len(arr)-1]\n",
    "        lower = [x for x in arr if x < pivot]\n",
    "        middle = [x for x in arr if x == pivot]\n",
    "        higher = [x for x in arr if x > pivot]\n",
    "        return quicksort_v2(lower) + middle + quicksort_v2(higher)\n",
    "        ### END YOUR CODE ###"
   ]
  },
  {
   "cell_type": "code",
   "execution_count": 217,
   "id": "7b9f614d",
   "metadata": {},
   "outputs": [
    {
     "name": "stdout",
     "output_type": "stream",
     "text": [
      "Original arr = [ 9 16 14  9 12 19 12  9  8  3 18 12 16  6  8]\n",
      "Sorted by quicksort(): [3, 6, 8, 8, 9, 9, 9, 12, 12, 12, 14, 16, 16, 18, 19]\n"
     ]
    }
   ],
   "source": [
    "# Do NOT change the test code here.\n",
    "np.random.seed(2)\n",
    "arr = np.random.randint(1, 20, 15)\n",
    "print(f'Original arr = {arr}')\n",
    "\n",
    "arr_sorted = quicksort_v2(arr)\n",
    "print(f'Sorted by quicksort(): {arr_sorted}')"
   ]
  },
  {
   "cell_type": "markdown",
   "id": "f0cad2a0-0d09-4bfa-af79-bee0c8342a02",
   "metadata": {},
   "source": [
    "**Expected output:** \n",
    "\n",
    "Original arr = [ 9 16 14  9 12 19 12  9  8  3 18 12 16  6  8]\\\n",
    "Sorted by quicksort(): [3, 6, 8, 8, 9, 9, 9, 12, 12, 12, 14, 16, 16, 18, 19]\n",
    "\n",
    "---\n",
    "\n",
    "## Compare running times\n",
    "\n",
    "Observe which versions of quicksort runs faster.\n"
   ]
  },
  {
   "cell_type": "code",
   "execution_count": 218,
   "id": "9f3cf245-2d85-4374-bafd-cf4745d46d92",
   "metadata": {},
   "outputs": [
    {
     "name": "stdout",
     "output_type": "stream",
     "text": [
      "quicksort(): 0.09181120799985365\n",
      "quicksort_v2(): 0.0874798329996338\n",
      "built-in sorted(): 0.010289042000295012\n"
     ]
    }
   ],
   "source": [
    "# Do NOT change the test code here.\n",
    "def test4():\n",
    "    np.random.seed(1)\n",
    "    arr = np.random.randint(1000, size=100).tolist()\n",
    "    quicksort_v2(arr)\n",
    "\n",
    "\n",
    "print('quicksort():', timeit.timeit('test1()', globals=globals(), number=1000))\n",
    "print('quicksort_v2():', timeit.timeit('test4()', globals=globals(), number=1000))\n",
    "print('built-in sorted():', timeit.timeit('test3()', globals=globals(), number=1000))"
   ]
  },
  {
   "cell_type": "code",
   "execution_count": null,
   "id": "6f00bb36",
   "metadata": {},
   "outputs": [],
   "source": []
  }
 ],
 "metadata": {
  "kernelspec": {
   "display_name": "Python 3 (ipykernel)",
   "language": "python",
   "name": "python3"
  },
  "language_info": {
   "codemirror_mode": {
    "name": "ipython",
    "version": 3
   },
   "file_extension": ".py",
   "mimetype": "text/x-python",
   "name": "python",
   "nbconvert_exporter": "python",
   "pygments_lexer": "ipython3",
   "version": "3.9.10"
  }
 },
 "nbformat": 4,
 "nbformat_minor": 5
}
