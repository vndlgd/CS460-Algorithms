{
 "cells": [
  {
   "cell_type": "markdown",
   "id": "71cec549-bfd3-4647-b153-637b45c7776d",
   "metadata": {},
   "source": [
    "# CS460 Algorithms and Their Analysis \n",
    "## Programming Assignment 4: Dynamic programming algorithms -- Rod cutting problem\n",
    "\n",
    "**Author:** Yang Xu, Assistant Professor of Computer Science, San Diego State University\n",
    "\n",
    "**Total points: 10 + 2(bonus)**"
   ]
  },
  {
   "cell_type": "markdown",
   "id": "016cc811",
   "metadata": {},
   "source": [
    "## Task 1: Naive recursive solution\n",
    "\n",
    "**Points: 1**\n",
    "\n",
    "Implement the naive cut rod algorithm using pure recursive strategy. Note that the price for length `i` is stored as the list element `prices[i-1]`."
   ]
  },
  {
   "cell_type": "code",
   "execution_count": 3,
   "id": "9ca63d6f",
   "metadata": {
    "pycharm": {
     "name": "#%%\n"
    }
   },
   "outputs": [],
   "source": [
    "def naive_rod_cutting(prices, n):\n",
    "    if n == 0:\n",
    "        return 0\n",
    "\n",
    "    q = float(\"-inf\")\n",
    "    ### START YOUR CODE ###\n",
    "    for i in range(1, n+1): # Specify the range\n",
    "        q = max(q, prices[i-1] + naive_rod_cutting(prices, n-i))\n",
    "    ### END YOUR CODE ###\n",
    "\n",
    "    return q"
   ]
  },
  {
   "cell_type": "code",
   "execution_count": 4,
   "id": "df6d9a9e",
   "metadata": {
    "pycharm": {
     "name": "#%%\n"
    }
   },
   "outputs": [
    {
     "name": "stdout",
     "output_type": "stream",
     "text": [
      "max revenue: 25\n"
     ]
    }
   ],
   "source": [
    "# Do not change the test code here\n",
    "prices = [1, 5, 8, 9, 10, 17, 17, 20, 24, 30]\n",
    "\n",
    "print('max revenue:', naive_rod_cutting(prices, 9))"
   ]
  },
  {
   "cell_type": "markdown",
   "id": "b7b60500",
   "metadata": {},
   "source": [
    "**Expected output**:\n",
    "\n",
    "max revenue: 25\n",
    "\n",
    "---\n",
    "\n",
    "## Task 2: Top down dynamic programming solution\n",
    "**Points: 3**:\n",
    "\n",
    "Implement the top down dynamic programming solution following the pseudo code."
   ]
  },
  {
   "cell_type": "code",
   "execution_count": 5,
   "id": "4637f84a",
   "metadata": {
    "pycharm": {
     "name": "#%%\n"
    }
   },
   "outputs": [],
   "source": [
    "def memoized_cut_rod(prices, n):\n",
    "    r = [float('-inf') for i in range(n+1)] # Initialize with float('-inf') and list comprehension\n",
    "    return memoized_cut_rod_aux(prices, n, r)\n",
    "\n",
    "def memoized_cut_rod_aux(prices, n, r):\n",
    "    ### START YOUR CODE ###\n",
    "    if r[n] >= 0:\n",
    "        return r[n] # Return\n",
    "    elif n == 0:\n",
    "        q = 0 # Correct value\n",
    "    else:\n",
    "        q = float('-inf')\n",
    "        for i in range(1, n+1): # Specify the range\n",
    "            q = max(q, prices[i] + memoized_cut_rod_aux(prices, n-i-1, r)) # Recursive call\n",
    "    r[n] = q # Update r[n]\n",
    "    ### END YOUR CODE ###\n",
    "\n",
    "    return q"
   ]
  },
  {
   "cell_type": "code",
   "execution_count": 6,
   "id": "2409e81f",
   "metadata": {
    "pycharm": {
     "name": "#%%\n"
    }
   },
   "outputs": [
    {
     "name": "stdout",
     "output_type": "stream",
     "text": [
      "max revenue: 25\n"
     ]
    }
   ],
   "source": [
    "# Do not change the test code here\n",
    "prices = [1, 5, 8, 9, 10, 17, 17, 20, 24, 30]\n",
    "\n",
    "print('max revenue:', memoized_cut_rod(prices, 9))"
   ]
  },
  {
   "cell_type": "markdown",
   "id": "70c86ade",
   "metadata": {},
   "source": [
    "**Expected output**:\n",
    "\n",
    "max revenue: 25\n",
    "\n",
    "## Task 3: Bottom up dynamic programming solution\n",
    "**Points:3**\n",
    "\n",
    "Implement the bottom up dynamic programming solution following the pseudo code."
   ]
  },
  {
   "cell_type": "code",
   "execution_count": 7,
   "id": "33b4e6ba",
   "metadata": {
    "pycharm": {
     "name": "#%%\n"
    }
   },
   "outputs": [],
   "source": [
    "def bottom_up_cut_rod(prices, n):\n",
    "    ### START YOUR CODE ###\n",
    "    r = [float('-inf') for i in range(n+1)] # Initialize with float('-inf') and list comprehension\n",
    "    r[0] = 0\n",
    "\n",
    "    for j in range(1, n+1): # Specify the range\n",
    "        q = float('-inf')\n",
    "        for i in range(j): # Specify the range\n",
    "            q = max(q, prices[i] + r[j-i-1])\n",
    "        r[j] = q # Update\n",
    "    ### END YOUR CODE ###\n",
    "\n",
    "    return r[n]"
   ]
  },
  {
   "cell_type": "code",
   "execution_count": 8,
   "id": "577cecc3",
   "metadata": {
    "pycharm": {
     "name": "#%%\n"
    }
   },
   "outputs": [
    {
     "name": "stdout",
     "output_type": "stream",
     "text": [
      "max revenue: 25\n"
     ]
    }
   ],
   "source": [
    "# Do not change the test code here\n",
    "prices = [1, 5, 8, 9, 10, 17, 17, 20, 24, 30]\n",
    "\n",
    "print('max revenue:', bottom_up_cut_rod(prices, 9))"
   ]
  },
  {
   "cell_type": "markdown",
   "id": "28a5b719-5b8f-4221-b697-36ae6b41d942",
   "metadata": {},
   "source": [
    "**Expected output**:\n",
    "\n",
    "max revenue: 25\n",
    "\n",
    "---\n",
    "\n",
    "## Task 4: Print the optimal way to cut\n",
    "**Points: 3**\n",
    "\n",
    "Implement the `extended_bottom_up_cut_rod()` function by following the pseudo code, so that the algorithem can now print the choices (cuts) that lead to the optimal revenue."
   ]
  },
  {
   "cell_type": "code",
   "execution_count": 9,
   "id": "b2f09eef",
   "metadata": {
    "pycharm": {
     "name": "#%%\n"
    }
   },
   "outputs": [],
   "source": [
    "def extended_bottom_up_cut_rod(prices, n):\n",
    "    ### START YOUR CODE ###\n",
    "    r = [float('-inf') for i in range(n+1)] # Initialize with float('-inf') and list comprehension\n",
    "    s = [float('-inf') for i in range(n)] # Initialize with float('-inf') and list comprehension\n",
    "    r[0] = 0\n",
    "    \n",
    "    for j in range(1, n+1): # Specify the range\n",
    "        q = float('-inf')\n",
    "        for i in range(j): # Specify the range\n",
    "            if q < prices[i] + r[j-i-1]: # Implement the if statement\n",
    "                q = prices[i] + r[j-i-1]\n",
    "                s[j-1] = i+1\n",
    "        r[j] = q\n",
    "    ### END YOUR CODE ###\n",
    "\n",
    "    return r, s\n",
    "\n",
    "def print_cut_rod_solution(s, n):\n",
    "    ### START YOUR CODE ###\n",
    "    while n > 0: # Specify the range\n",
    "        print(s[int(n-1)], end=',')\n",
    "        n = n - s[n-1] # Update n\n"
   ]
  },
  {
   "cell_type": "code",
   "execution_count": 10,
   "id": "e4980c91",
   "metadata": {
    "pycharm": {
     "name": "#%%\n"
    }
   },
   "outputs": [
    {
     "name": "stdout",
     "output_type": "stream",
     "text": [
      "[1, 2, 3, 2, 2, 6, 1, 2, 3]\n",
      "25\n",
      "3,6,"
     ]
    }
   ],
   "source": [
    "# Do not change the test code here\n",
    "prices = [1, 5, 8, 9, 10, 17, 17, 20, 24, 30]\n",
    "\n",
    "r, s = extended_bottom_up_cut_rod(prices, 9)\n",
    "\n",
    "print(s)\n",
    "print(r[9])\n",
    "print_cut_rod_solution(s, 9)"
   ]
  },
  {
   "cell_type": "markdown",
   "id": "63ece8fc",
   "metadata": {},
   "source": [
    "**Expected output**:\n",
    "\n",
    "[1, 2, 3, 2, 2, 6, 1, 2, 3]\\\n",
    "25\\\n",
    "3,6,\n",
    "\n",
    "---\n",
    "\n",
    "## Task 5 (Bonus): Extend the top down solution\n",
    "**Points: 2 (bonus)**\n",
    "\n",
    "Extend the top down solution so that it can also print the choices (cuts) that lead to the optimal revenue.\n",
    "\n",
    "*Hint*: The solution is stored in array `s`, which should be updated at the same time as the revenue array `r`."
   ]
  },
  {
   "cell_type": "code",
   "execution_count": 25,
   "id": "d65d8ab6",
   "metadata": {
    "pycharm": {
     "name": "#%%\n"
    }
   },
   "outputs": [],
   "source": [
    "def extended_memoized_cut_rod(prices, n):\n",
    "    ### START YOUR CODE ###\n",
    "    r = [float('-inf') for i in range(n+1)] # Initialize with float('-inf') and list comprehension\n",
    "    s = [float('-inf') for i in range(n)] # Initialize with float('-inf') and list comprehension\n",
    "    ### END YOUR CODE ###\n",
    "    extended_memoized_cut_rod_aux(prices, n, r, s)\n",
    "    return r, s\n",
    "\n",
    "def extended_memoized_cut_rod_aux(prices, n, r, s):\n",
    "    ### START YOUR CODE ###\n",
    "    if r[n] >= 0:\n",
    "        return r[n]\n",
    "    elif n == 0:\n",
    "        q = 0\n",
    "    else:\n",
    "        q = float('-inf')\n",
    "        for i in range(1, n+1):\n",
    "            value = (prices[i-1] + extended_memoized_cut_rod_aux(prices, n-i, r, s))\n",
    "            if q < value:\n",
    "                q = value\n",
    "                s[n-1] = i\n",
    "    r[n] = q \n",
    "    ### END YOUR CODE ###\n",
    "\n",
    "    return q"
   ]
  },
  {
   "cell_type": "code",
   "execution_count": 26,
   "id": "516ee49e",
   "metadata": {
    "pycharm": {
     "name": "#%%\n"
    }
   },
   "outputs": [
    {
     "name": "stdout",
     "output_type": "stream",
     "text": [
      "[1, 2, 3, 2, 2, 6, 1, 2, 3]\n",
      "25\n",
      "3,6,"
     ]
    }
   ],
   "source": [
    "# Do not change the test code here\n",
    "prices = [1, 5, 8, 9, 10, 17, 17, 20, 24, 30]\n",
    "\n",
    "r, s = extended_memoized_cut_rod(prices, 9)\n",
    "\n",
    "print(s)\n",
    "print(r[9])\n",
    "print_cut_rod_solution(s, 9)"
   ]
  },
  {
   "cell_type": "markdown",
   "id": "a1c88e96",
   "metadata": {
    "pycharm": {
     "name": "#%% md\n"
    }
   },
   "source": [
    "**Expected output**:\n",
    "\n",
    "[1, 2, 3, 2, 2, 6, 1, 2, 3]\\\n",
    "25\\\n",
    "3,6,"
   ]
  }
 ],
 "metadata": {
  "kernelspec": {
   "display_name": "Python 3 (ipykernel)",
   "language": "python",
   "name": "python3"
  },
  "language_info": {
   "codemirror_mode": {
    "name": "ipython",
    "version": 3
   },
   "file_extension": ".py",
   "mimetype": "text/x-python",
   "name": "python",
   "nbconvert_exporter": "python",
   "pygments_lexer": "ipython3",
   "version": "3.9.10"
  }
 },
 "nbformat": 4,
 "nbformat_minor": 5
}
