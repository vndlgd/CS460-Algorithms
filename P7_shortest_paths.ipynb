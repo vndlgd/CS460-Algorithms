{
 "cells": [
  {
   "cell_type": "markdown",
   "metadata": {},
   "source": [
    "# CS460 Algorithms and Their Analysis\n",
    "## Programming Assignment 7: Advanced graph algorithms -- Part 2, Single source shortest paths\n",
    "\n",
    "**Author:** Yang Xu, Assistant Professor of Computer Science, San Diego State University\n",
    "\n",
    "**Total points: 10**"
   ]
  },
  {
   "cell_type": "code",
   "execution_count": 57,
   "metadata": {
    "pycharm": {
     "name": "#%%\n"
    }
   },
   "outputs": [],
   "source": [
    "from mst_util import MinPriorityQueue"
   ]
  },
  {
   "cell_type": "markdown",
   "metadata": {
    "pycharm": {
     "name": "#%% md\n"
    }
   },
   "source": [
    "## Task 1. Bellman-Ford algorithm\n",
    "\n",
    "**Sub-total points: 4**\n",
    "\n",
    "First, we use a simplified implementation of directed weighted graph, shown below:"
   ]
  },
  {
   "cell_type": "code",
   "execution_count": 58,
   "metadata": {
    "pycharm": {
     "name": "#%%\n"
    }
   },
   "outputs": [],
   "source": [
    "graph = {\n",
    "    's': {'t': 6, 'y': 7},\n",
    "    't': {'x': 5, 'z': -4, 'y': 8},\n",
    "    'x': {'t': -2},\n",
    "    'y': {'x': -3, 'z': 9},\n",
    "    'z': {'x': 7}\n",
    "}"
   ]
  },
  {
   "cell_type": "markdown",
   "metadata": {
    "pycharm": {
     "name": "#%% md\n"
    }
   },
   "source": [
    "Next, define the function that initializes the `distances` and `parents`.\n",
    "\n",
    "`distances` is a `dict` object that stores the $v.d$ attribute for each vertex, and `parents` is for storing the $v.\\pi$.\n",
    "\n",
    "*Hint*: You can use `float('inf')` for representing infinite value in Python.\n",
    "\n",
    "**(Points 1)**"
   ]
  },
  {
   "cell_type": "code",
   "execution_count": 59,
   "metadata": {
    "pycharm": {
     "name": "#%%\n"
    }
   },
   "outputs": [],
   "source": [
    "def initialize_single_source(graph, source):\n",
    "    \"\"\"\n",
    "    Initialize distances and parents in place\n",
    "    :param graph:\n",
    "    :param source:\n",
    "    :return: distances and parents\n",
    "    \"\"\"\n",
    "    distances, parents = {}, {}\n",
    "\n",
    "    ### START YOUR CODE ###\n",
    "    for vertex in graph:\n",
    "        distances[vertex] = float('inf') # Initialize distance\n",
    "        parents[vertex] = None # Initialize parent\n",
    "\n",
    "    distances[source] = 0 # Initial distance for source vertex\n",
    "    ### END YOUR CODE ###\n",
    "\n",
    "    return distances, parents"
   ]
  },
  {
   "cell_type": "code",
   "execution_count": 60,
   "metadata": {
    "pycharm": {
     "name": "#%%\n"
    }
   },
   "outputs": [
    {
     "name": "stdout",
     "output_type": "stream",
     "text": [
      "{'s': 0, 't': inf, 'x': inf, 'y': inf, 'z': inf}\n",
      "{'s': None, 't': None, 'x': None, 'y': None, 'z': None}\n"
     ]
    }
   ],
   "source": [
    "# Do not change the test code here\n",
    "distances, parents = initialize_single_source(graph, 's')\n",
    "print(distances)\n",
    "print(parents)"
   ]
  },
  {
   "cell_type": "markdown",
   "metadata": {
    "pycharm": {
     "name": "#%% md\n"
    }
   },
   "source": [
    "**Expected output**\n",
    "\n",
    "{'s': 0, 't': inf, 'x': inf, 'y': inf, 'z': inf}\\\n",
    "{'s': None, 't': None, 'x': None, 'y': None, 'z': None}\n",
    "\n",
    "---"
   ]
  },
  {
   "cell_type": "markdown",
   "metadata": {
    "pycharm": {
     "name": "#%% md\n"
    }
   },
   "source": [
    "# Now, implement the Bellman-Ford algorithm.\n",
    "\n",
    "Note that you do not need to use an explicit `RELAX()` function here. Instead, you can just use a `if` statement to update the distance and parent of vertex.\n",
    "\n",
    "The return type of the function is a tuple of 3 elements: `(Boolean, distances, parents)`, in which the first boolean variable indicates whether there is no cycles in the graph (`True` for no cycle; `False` for cycle exists).\n",
    "\n",
    "**(Points: 3)**"
   ]
  },
  {
   "cell_type": "code",
   "execution_count": 61,
   "metadata": {
    "pycharm": {
     "name": "#%%\n"
    }
   },
   "outputs": [],
   "source": [
    "def bellman_ford(graph, source):\n",
    "    # Call initialize_single_source()\n",
    "    distances, parents = initialize_single_source(graph, source)\n",
    "\n",
    "    # First loop, relax edges\n",
    "    ### START YOUR CODE ###\n",
    "    for _ in range(len(graph)): # Specify the range of the outer loop \n",
    "        for u in graph: # Use nested for loops to iterate over all edges\n",
    "            for v in graph[u]:\n",
    "                if distances[v] > distances[u] + graph[u][v]: # Relax the edge\n",
    "                    distances[v] = distances[u] + graph[u][v]\n",
    "                    parents[v] = u\n",
    "    ### END YOUR CODE ###\n",
    "\n",
    "    # Second loop, detect cycles\n",
    "    ### START YOUR CODE ###\n",
    "    for u in graph: # Use nested for loops to iterate over all edges\n",
    "        for v in graph[u]:\n",
    "            if distances[v] > distances[u] + graph[u][v]: # Check if there it breaks the condition\n",
    "                return False \n",
    "    ### END YOUR CODE ###\n",
    "\n",
    "    ### START YOUR CODE ###\n",
    "    return True, distances, parents\n",
    "    ### END YOUR CODE ###"
   ]
  },
  {
   "cell_type": "code",
   "execution_count": 62,
   "metadata": {
    "pycharm": {
     "name": "#%%\n"
    }
   },
   "outputs": [
    {
     "name": "stdout",
     "output_type": "stream",
     "text": [
      "True\n",
      "{'s': 0, 't': 2, 'x': 4, 'y': 7, 'z': -2}\n",
      "{'s': None, 't': 'x', 'x': 'y', 'y': 's', 'z': 't'}\n"
     ]
    }
   ],
   "source": [
    "# Do not change the test code here\n",
    "no_cycle, distances, parents = bellman_ford(graph, 's')\n",
    "\n",
    "print(no_cycle)\n",
    "print(distances)\n",
    "print(parents)"
   ]
  },
  {
   "cell_type": "markdown",
   "metadata": {},
   "source": [
    "**Expected output**\n",
    "\n",
    "True\\\n",
    "{'s': 0, 't': 2, 'x': 4, 'y': 7, 'z': -2}\\\n",
    "{'s': None, 't': 'x', 'x': 'y', 'y': 's', 'z': 't'}\n",
    "\n",
    "---"
   ]
  },
  {
   "cell_type": "markdown",
   "metadata": {},
   "source": [
    "## Task 2. Print the shortest path\n",
    "\n",
    "**Points: 2**\n",
    "\n",
    "Implement a function that prints the shortest path between `source` and `target` vertices using a given `parents` object. The function should return a `str` that uses \" -> \" to connect adjacent vertices (see the expected output).\n",
    "\n",
    "*Hint:*\n",
    "- This can be a recursive function where the recursion boundary is that source and target are the same vertex.\n",
    "- Can use a `while` loop for an iterative implementation."
   ]
  },
  {
   "cell_type": "code",
   "execution_count": 63,
   "metadata": {
    "pycharm": {
     "name": "#%%\n"
    }
   },
   "outputs": [],
   "source": [
    "def get_path(parents, source, target):\n",
    "    path = [target]\n",
    "    ### START YOUR CODE ###\n",
    "    while True:\n",
    "        key = parents[path[0]]\n",
    "        path.insert(0, key)\n",
    "        if key == source:\n",
    "            break\n",
    "    path = \" -> \".join(path)\n",
    "    ### END YOUR CODE ###\n",
    "    return path"
   ]
  },
  {
   "cell_type": "code",
   "execution_count": 64,
   "metadata": {
    "pycharm": {
     "name": "#%%\n"
    }
   },
   "outputs": [
    {
     "name": "stdout",
     "output_type": "stream",
     "text": [
      "s -> y -> x -> t -> z\n"
     ]
    }
   ],
   "source": [
    "# Do not change the test code here\n",
    "path = get_path(parents, 's', 'z')\n",
    "print(path)"
   ]
  },
  {
   "cell_type": "markdown",
   "metadata": {},
   "source": [
    "**Expected output**\n",
    "\n",
    "s -> y -> x -> t -> z\n",
    "\n",
    "---"
   ]
  },
  {
   "cell_type": "markdown",
   "metadata": {
    "pycharm": {
     "name": "#%% md\n"
    }
   },
   "source": [
    "### Task 3. Dijkstra algorithm\n",
    "\n",
    "**Points 4**\n",
    "\n",
    "Implement the Dijkstra algorithm using the `MinPriorityQueue` class imported from `mst_util.py`.\n",
    "\n",
    "*Hint*:\n",
    "- The elements to be pushed to the queue are pairs of `(vertex, distance)`.\n",
    "- Remember to manually update the key of element in the priority queue (call `update_key()`), after its distance and parent has been changed."
   ]
  },
  {
   "cell_type": "code",
   "execution_count": 69,
   "metadata": {
    "pycharm": {
     "name": "#%%\n"
    }
   },
   "outputs": [],
   "source": [
    "def dijkstra(graph, source):\n",
    "    # Call initialize_single_source()\n",
    "    distances, parents = initialize_single_source(graph, source)\n",
    "\n",
    "    # Push all (vertex, distance) pairs to the pq\n",
    "    pq = MinPriorityQueue()\n",
    "    ### START YOUR CODE ###\n",
    "    # Push elements to the minimum priority queue \n",
    "    for vertex in graph:\n",
    "        pq.push(vertex, distances[vertex])\n",
    "    ### END YOUR CODE ###\n",
    "\n",
    "    # Loop\n",
    "    while not pq.is_empty():\n",
    "        ### START YOUR CODE ###\n",
    "        u = pq.extract_min() # Extract minimumn element\n",
    "        for v in graph[u]: # Iterate over all adjacent vertices and weight\n",
    "            if distances[v] > distances[u] + graph[u][v]: # Relax the edge\n",
    "                distances[v] = distances[u] + graph[u][v] # Update distances\n",
    "                parents[v] = u # Update parents\n",
    "                pq.update_key(v, distances[v]) # Manually update the key in pq \n",
    "        ### END YOUR CODE ###\n",
    "        \n",
    "    return distances, parents"
   ]
  },
  {
   "cell_type": "code",
   "execution_count": 70,
   "metadata": {
    "pycharm": {
     "name": "#%%\n"
    }
   },
   "outputs": [
    {
     "name": "stdout",
     "output_type": "stream",
     "text": [
      "{'s': 0, 't': 8, 'x': 9, 'y': 5, 'z': 7}\n",
      "{'s': None, 't': 'y', 'x': 't', 'y': 's', 'z': 'y'}\n",
      "s -> y -> t -> x\n"
     ]
    }
   ],
   "source": [
    "# Do not change the test code here\n",
    "graph = {\n",
    "    's': {'t': 10, 'y': 5},\n",
    "    't': {'y': 5, 'x': 1},\n",
    "    'x': {'z': 4},\n",
    "    'y': {'t': 3, 'x': 9, 'z': 2},\n",
    "    'z': {'s': 7, 'x': 6}\n",
    "}\n",
    "\n",
    "distances, parents = dijkstra(graph, 's')\n",
    "\n",
    "print(distances)\n",
    "print(parents)\n",
    "print(get_path(parents, 's', 'x'))"
   ]
  },
  {
   "cell_type": "markdown",
   "metadata": {
    "pycharm": {
     "name": "#%% md\n"
    }
   },
   "source": [
    "**Expected output**\n",
    "\n",
    "{'s': 0, 't': 8, 'x': 9, 'y': 5, 'z': 7}\\\n",
    "{'s': None, 't': 'y', 'x': 't', 'y': 's', 'z': 'y'}\\\n",
    "s -> y -> t -> x"
   ]
  }
 ],
 "metadata": {
  "kernelspec": {
   "display_name": "Python 3 (ipykernel)",
   "language": "python",
   "name": "python3"
  },
  "language_info": {
   "codemirror_mode": {
    "name": "ipython",
    "version": 3
   },
   "file_extension": ".py",
   "mimetype": "text/x-python",
   "name": "python",
   "nbconvert_exporter": "python",
   "pygments_lexer": "ipython3",
   "version": "3.9.12"
  }
 },
 "nbformat": 4,
 "nbformat_minor": 1
}
