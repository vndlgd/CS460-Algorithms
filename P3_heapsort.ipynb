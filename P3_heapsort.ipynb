{
 "cells": [
  {
   "cell_type": "markdown",
   "id": "71cec549-bfd3-4647-b153-637b45c7776d",
   "metadata": {},
   "source": [
    "# CS460 Algorithms and Their Analysis \n",
    "## Programming Assignment 3: Implement heap sort algorithm\n",
    "\n",
    "**Author:** Yang Xu, Assistant Professor of Computer Science, San Diego State University\n",
    "\n",
    "**Total points: 15 + 2(bonus)**"
   ]
  },
  {
   "cell_type": "code",
   "execution_count": 54,
   "id": "9c5c0e9a-90a5-47e0-8be6-5bb1d6338cf5",
   "metadata": {},
   "outputs": [],
   "source": [
    "import numpy as np\n",
    "import timeit\n",
    "import heapq"
   ]
  },
  {
   "cell_type": "markdown",
   "id": "721e45e4-da1d-4b3f-abee-821a5f4142ca",
   "metadata": {},
   "source": [
    "## Task 1: Implement the function of testing max-heap property\n",
    "**Points: 3**\n",
    "\n",
    "Implement the `is_maxheap()` function, which test whether a given list satisfies the max-heap property.\n",
    "\n",
    "This algorithm is not covered in the lecture slides, but we can use the same strategy as in `build_maxheap()`, i.e., we go through the first half of the elements in the array, and if any of them breaks the maxheap property, then return `False`; if none of them breaks, then return `True`.\n",
    "\n",
    "*Hint*: Since the index starts with 0 in Python, the way to calcualte node `i`'s left child and right child's indices should be slicely different from the formulas given in the textbook. "
   ]
  },
  {
   "cell_type": "code",
   "execution_count": 55,
   "id": "168511d2-3c0d-4743-ae61-d8047a2d928d",
   "metadata": {},
   "outputs": [],
   "source": [
    "def is_maxheap(A, heap_size:int = None) -> bool:\n",
    "    if heap_size:\n",
    "        assert heap_size <= len(A)\n",
    "    else:\n",
    "        heap_size = len(A)\n",
    "\n",
    "    flag = True # Initialize the boolean variable to be returned\n",
    "\n",
    "    ### START YOUR CODE ###\n",
    "    for i in range(heap_size): # Fill in the correct range\n",
    "        left_child = 2 * i + 1\n",
    "        right_child = 2 * i + 2\n",
    "        if (left_child < heap_size) and (A[i] < A[left_child]):\n",
    "            flag = False\n",
    "            break\n",
    "        if (right_child < heap_size) and (A[i] < A[right_child]):\n",
    "            flag = False\n",
    "            break\n",
    "    ### END YOUR CODE ###\n",
    "\n",
    "    return flag"
   ]
  },
  {
   "cell_type": "code",
   "execution_count": 56,
   "id": "b028c543-36d9-4a0d-948d-c0829a348229",
   "metadata": {},
   "outputs": [
    {
     "name": "stdout",
     "output_type": "stream",
     "text": [
      "True\n",
      "False\n",
      "False\n",
      "False\n"
     ]
    }
   ],
   "source": [
    "# Do NOT change the test code here.\n",
    "\n",
    "arr1 = [15, 8, 10, 5, 7, 9, 6]\n",
    "print(is_maxheap(arr1, len(arr1)))\n",
    "\n",
    "arr2 = [15, 8, 10, 9, 7, 9, 6]\n",
    "print(is_maxheap(arr2, len(arr2)))\n",
    "\n",
    "arr3 = [15, 8, 10, 5, 9, 9, 6]\n",
    "print(is_maxheap(arr3, len(arr3)))\n",
    "\n",
    "arr4 = [15, 8, 10, 5, 7, 11, 6]\n",
    "print(is_maxheap(arr4, len(arr4)))"
   ]
  },
  {
   "cell_type": "markdown",
   "id": "28a5b719-5b8f-4221-b697-36ae6b41d942",
   "metadata": {},
   "source": [
    "**Expected output:** \\\n",
    "True \\\n",
    "False \\\n",
    "False \\\n",
    "False\n",
    "\n",
    "\n",
    "---\n",
    "## Task 2: Implement max_heapify()\n",
    "**Points: 2**\n",
    "\n",
    "Implement `max_heapify()` following the pseudo-code in lecture slides/textbook. Note that there is a slice difference in the additional argument `heap_size`."
   ]
  },
  {
   "cell_type": "code",
   "execution_count": 57,
   "id": "900c1995-a3ed-4329-b08b-0ecae3e24e33",
   "metadata": {},
   "outputs": [],
   "source": [
    "def max_heapify(A, idx, heap_size):\n",
    "    ### START YOUR CODE ###\n",
    "    largest = None\n",
    "    left = 2 * idx + 1\n",
    "    right = 2 * idx + 2\n",
    "    if left < heap_size and A[left] > A[idx]:\n",
    "        largest = left\n",
    "    else:\n",
    "        largest = idx\n",
    "    if right < heap_size and A[right] > A[largest]:\n",
    "        largest = right\n",
    "    if largest != idx:\n",
    "        A[idx], A[largest] = A[largest], A[idx]\n",
    "        max_heapify(A, largest, heap_size)\n",
    "    ### END YOUR CODE ###"
   ]
  },
  {
   "cell_type": "code",
   "execution_count": 58,
   "id": "1775764a-71ab-43b2-83d0-fb38a3725e51",
   "metadata": {},
   "outputs": [
    {
     "name": "stdout",
     "output_type": "stream",
     "text": [
      "Before: [16, 4, 10, 14, 7, 9, 3, 2, 8, 1]\n",
      "False\n",
      "\n",
      "After: [16, 14, 10, 8, 7, 9, 3, 2, 4, 1]\n",
      "True\n"
     ]
    }
   ],
   "source": [
    "# Do NOT change the test code here.\n",
    "\n",
    "arr = [16, 4, 10, 14, 7, 9, 3, 2, 8, 1]\n",
    "print('Before:', arr)\n",
    "print(is_maxheap(arr))\n",
    "print()\n",
    "\n",
    "max_heapify(arr, 1, heap_size=len(arr))\n",
    "print('After:', arr)\n",
    "print(is_maxheap(arr))"
   ]
  },
  {
   "cell_type": "markdown",
   "id": "98840826-6d14-4aa2-863f-ba54575023f1",
   "metadata": {},
   "source": [
    "**Expected output:** \\\n",
    "Before: [16, 4, 10, 14, 7, 9, 3, 2, 8, 1]\\\n",
    "False\n",
    "\n",
    "After: [16, 14, 10, 8, 7, 9, 3, 2, 4, 1]\\\n",
    "True\n",
    "\n",
    "---\n",
    "## Task 3: Implement build_maxheap()\n",
    "**Points: 2**\n",
    "\n",
    "Implement `build_maxheap()` by following the pseudo-code in lecture slides/textbook. \n",
    "\n",
    "*Hint*: You can use a negative step in `range()` to implement a reversed for loop."
   ]
  },
  {
   "cell_type": "code",
   "execution_count": 59,
   "id": "000393aa-1001-4c25-9567-95a021562b51",
   "metadata": {},
   "outputs": [],
   "source": [
    "def build_maxheap(A):\n",
    "    for i in range((len(A))//2 - 1, -1, -1):\n",
    "        max_heapify(A, i, len(A))"
   ]
  },
  {
   "cell_type": "code",
   "execution_count": 60,
   "id": "827e460b-fee5-4c1d-9581-ce38e044c168",
   "metadata": {},
   "outputs": [
    {
     "name": "stdout",
     "output_type": "stream",
     "text": [
      "Before: False\n",
      "[1, 2, 8, 3, 9, 7, 14, 4, 10, 16]\n",
      "\n",
      "After: True\n",
      "[16, 10, 14, 4, 9, 7, 8, 1, 3, 2]\n"
     ]
    }
   ],
   "source": [
    "# Do NOT change the test code here.\n",
    "\n",
    "arr = [1, 2, 8, 3, 9, 7, 14, 4, 10, 16]\n",
    "\n",
    "print('Before:', is_maxheap(arr))\n",
    "print(arr)\n",
    "print()\n",
    "\n",
    "build_maxheap(arr)\n",
    "print('After:', is_maxheap(arr))\n",
    "print(arr)"
   ]
  },
  {
   "cell_type": "markdown",
   "id": "dc74c13b-c47c-433a-b2b9-703120817abe",
   "metadata": {},
   "source": [
    "**Expected output:** \\\n",
    "Before: False\\\n",
    "[1, 2, 8, 3, 9, 7, 14, 4, 10, 16]\n",
    "\n",
    "After: True\\\n",
    "[16, 10, 14, 4, 9, 7, 8, 1, 3, 2]\n",
    "\n",
    "---\n",
    "## Task 4: Implement heapsort()\n",
    "**Points: 3**\n",
    "\n",
    "Implement `heapsort()` by following the pseudo-code in lecture slides/textbook. \n",
    "\n",
    "*Hint*: Specifiy the `heap_size` argument correctly when calling the `max_heapify()` function."
   ]
  },
  {
   "cell_type": "code",
   "execution_count": 61,
   "id": "fbef8aaf-9388-49e8-9602-ad536f2341b6",
   "metadata": {},
   "outputs": [],
   "source": [
    "def heapsort(A):\n",
    "    ### START YOUR CODE ###\n",
    "    heap_size = len(A)\n",
    "    build_maxheap(A)\n",
    "    for i in range(len(A)-1, 0, -1):\n",
    "        A[0], A[i] = A[i], A[0]\n",
    "        heap_size = heap_size - 1\n",
    "        max_heapify(A, 0, heap_size)\n",
    "    ### END YOUR CODE ###"
   ]
  },
  {
   "cell_type": "code",
   "execution_count": 62,
   "id": "a96eac65-e221-418f-828c-003fc36d5db2",
   "metadata": {},
   "outputs": [
    {
     "name": "stdout",
     "output_type": "stream",
     "text": [
      "Unsorted: [44, 47, 64, 67, 67, 9, 83, 21, 36, 87, 70, 88, 88, 12, 58, 65, 39, 87, 46, 88]\n",
      "Sorted by heapsort(): [9, 12, 21, 36, 39, 44, 46, 47, 58, 64, 65, 67, 67, 70, 83, 87, 87, 88, 88, 88]\n",
      "Sorted by sorted():   [9, 12, 21, 36, 39, 44, 46, 47, 58, 64, 65, 67, 67, 70, 83, 87, 87, 88, 88, 88]\n"
     ]
    }
   ],
   "source": [
    "# Do NOT change the test code here.\n",
    "np.random.seed(0)\n",
    "\n",
    "arr = np.random.randint(100, size=20).tolist()\n",
    "print('Unsorted:', arr)\n",
    "\n",
    "arr1 = arr.copy()\n",
    "heapsort(arr1)\n",
    "print('Sorted by heapsort():', arr1)\n",
    "\n",
    "arr2 = sorted(arr)\n",
    "print('Sorted by sorted():  ', arr2)"
   ]
  },
  {
   "cell_type": "markdown",
   "id": "f0cad2a0-0d09-4bfa-af79-bee0c8342a02",
   "metadata": {},
   "source": [
    "**Expected output:** \n",
    "\n",
    "Unsorted: [44, 47, 64, 67, 67, 9, 83, 21, 36, 87, 70, 88, 88, 12, 58, 65, 39, 87, 46, 88]\n",
    "\n",
    "Sorted by heapsort(): [9, 12, 21, 36, 39, 44, 46, 47, 58, 64, 65, 67, 67, 70, 83, 87, 87, 88, 88, 88]\n",
    "\n",
    "Sorted by sorted():   [9, 12, 21, 36, 39, 44, 46, 47, 58, 64, 65, 67, 67, 70, 83, 87, 87, 88, 88, 88]\n",
    "\n",
    "---\n",
    "\n",
    "## Task 5 (Bonus task): Implement heapsort with `heapq` module\n",
    "**Points: 2** (bonus)\n",
    "\n",
    "Implement heapsort_v2() using the built-in `heapq` module of Python, and compare its performance with `heapsort()`.\n",
    "\n",
    "*Hint:* `heapq` provides an implementation of the heap queue algorithm. In Python, we can view heap as a regular list, you can create a heap by transforming a populated list into a heap via function `heapify()`, or by calling `heappush()` iteratively.\\\n",
    "Go to https://docs.python.org/3/library/heapq.html for more references."
   ]
  },
  {
   "cell_type": "code",
   "execution_count": 63,
   "id": "9f3cf245-2d85-4374-bafd-cf4745d46d92",
   "metadata": {},
   "outputs": [],
   "source": [
    "def heapsort_v2(A):\n",
    "    heap = []\n",
    "    ### START YOUR CODE ###\n",
    "    # Intialize heap with all the elements in A\n",
    "    for i in A:\n",
    "        heapq.heappush(heap, i)\n",
    "    ### END YOUR CODE ###\n",
    "    \n",
    "    A_sorted = []\n",
    "    ### START YOUR CODE ###\n",
    "    # Implement heapsort. The sorted results stored in A_sorted\n",
    "    A_sorted = [heapq.heappop(heap) for j in range(len(heap))]\n",
    "    ### END YOUR CODE ###\n",
    "    \n",
    "    return A_sorted"
   ]
  },
  {
   "cell_type": "code",
   "execution_count": 64,
   "id": "78f00a2c-d3ae-4c2f-bec2-d043b72417b6",
   "metadata": {},
   "outputs": [
    {
     "name": "stdout",
     "output_type": "stream",
     "text": [
      "Sorted by heapsort_v2(): [9, 12, 21, 36, 39, 44, 46, 47, 58, 64, 65, 67, 67, 70, 83, 87, 87, 88, 88, 88]\n"
     ]
    }
   ],
   "source": [
    "# Test heapsort_v2()\n",
    "# Do NOT change the test code here.\n",
    "np.random.seed(0)\n",
    "\n",
    "arr = np.random.randint(100, size=20).tolist()\n",
    "\n",
    "arr_sorted = heapsort_v2(arr)\n",
    "print('Sorted by heapsort_v2():', arr_sorted)"
   ]
  },
  {
   "cell_type": "markdown",
   "id": "cf9dcf23-c282-424f-a060-44f31b1ace5c",
   "metadata": {},
   "source": [
    "**Expected output**\n",
    "\n",
    "Sorted by heapsort_v2(): [9, 12, 21, 36, 39, 44, 46, 47, 58, 64, 65, 67, 67, 70, 83, 87, 87, 88, 88, 88]\n",
    "\n",
    "---\n",
    "\n",
    "Run the cell below to see which version of heapsort is faster. How does it compared to the built-in `sorted()`?"
   ]
  },
  {
   "cell_type": "code",
   "execution_count": 65,
   "id": "0d76f6d1-e2e5-46d2-8267-a697d99aac93",
   "metadata": {},
   "outputs": [
    {
     "name": "stdout",
     "output_type": "stream",
     "text": [
      "heapsort() 0.1907060419998743\n",
      "heapsort_v2() 0.027592207999987295\n",
      "sorted() 0.009916791000250669\n"
     ]
    }
   ],
   "source": [
    "# Do NOT change the test code here.\n",
    "\n",
    "def test1():\n",
    "    np.random.seed(1)\n",
    "    arr = np.random.randint(1000, size=100).tolist()\n",
    "    heapsort(arr)\n",
    "\n",
    "def test2():\n",
    "    np.random.seed(1)\n",
    "    arr = np.random.randint(1000, size=100).tolist()\n",
    "    heapsort_v2(arr)\n",
    "\n",
    "def test3():\n",
    "    np.random.seed(1)\n",
    "    arr = np.random.randint(1000, size=100).tolist()\n",
    "    sorted(arr)\n",
    "\n",
    "print('heapsort()', timeit.timeit('test1()', globals=globals(), number=1000))\n",
    "print('heapsort_v2()', timeit.timeit('test2()', globals=globals(), number=1000))\n",
    "print('sorted()', timeit.timeit('test3()', globals=globals(), number=1000))"
   ]
  },
  {
   "cell_type": "code",
   "execution_count": null,
   "id": "efedd370",
   "metadata": {},
   "outputs": [],
   "source": []
  }
 ],
 "metadata": {
  "kernelspec": {
   "display_name": "Python 3 (ipykernel)",
   "language": "python",
   "name": "python3"
  },
  "language_info": {
   "codemirror_mode": {
    "name": "ipython",
    "version": 3
   },
   "file_extension": ".py",
   "mimetype": "text/x-python",
   "name": "python",
   "nbconvert_exporter": "python",
   "pygments_lexer": "ipython3",
   "version": "3.9.10"
  }
 },
 "nbformat": 4,
 "nbformat_minor": 5
}
