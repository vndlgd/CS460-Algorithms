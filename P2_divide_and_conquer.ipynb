{
 "cells": [
  {
   "cell_type": "markdown",
   "metadata": {},
   "source": [
    "# CS460 Algorithms and Their Analysis\n",
    "## Programming Assignment 2: Maximum subarray problem\n",
    "\n",
    "**Author:** Yang Xu, Assistant Professor of Computer Science, San Diego State University\n",
    "\n",
    "**Semester:** Spring 2022\n",
    "\n",
    "**Total points**: 20"
   ]
  },
  {
   "cell_type": "code",
   "execution_count": 1,
   "metadata": {},
   "outputs": [],
   "source": [
    "import numpy as np"
   ]
  },
  {
   "cell_type": "markdown",
   "metadata": {},
   "source": [
    "## Task 1: Solve maximum subarray problem\n",
    "**Points: 10**\n",
    "\n",
    "First, implement the `find_max_cross_subarray()` function, with reference to the pseudo-code in lecture slides. "
   ]
  },
  {
   "cell_type": "code",
   "execution_count": 2,
   "metadata": {},
   "outputs": [],
   "source": [
    "def find_max_cross_subarray(A, low, mid, high):\n",
    "    left_sum = float('-inf')\n",
    "    max_left = None\n",
    "    sum = 0\n",
    "    ### START YOUR CODE ###\n",
    "    # from mid to 0\n",
    "    for i in reversed(range(0, mid+1)):\n",
    "        sum = sum + A[i]\n",
    "        if sum > left_sum:\n",
    "            left_sum = sum\n",
    "            max_left = i\n",
    "    ### END YOUR CODE ###\n",
    "\n",
    "    right_sum = float('-inf')\n",
    "    max_right = None\n",
    "    sum = 0\n",
    "    # from mid + 1 to high\n",
    "    ### START YOUR CODE ###\n",
    "    for j in range(mid+1, high+1):\n",
    "        sum = sum + A[j]\n",
    "        if sum > right_sum:\n",
    "            right_sum = sum\n",
    "            max_right = j\n",
    "    ### END YOUR CODE ###\n",
    "    \n",
    "    return (max_left, max_right, left_sum + right_sum)"
   ]
  },
  {
   "cell_type": "code",
   "execution_count": 3,
   "metadata": {},
   "outputs": [
    {
     "name": "stdout",
     "output_type": "stream",
     "text": [
      "(7, 10, 43)\n"
     ]
    }
   ],
   "source": [
    "# Test code. Do not change the code in this cell\n",
    "A = [13,-3,-25,20,-3,-16,-23,18,20,-7,12,-5,-22,15,-4,7]\n",
    "\n",
    "print(find_max_cross_subarray(A, 0, 7, 15))"
   ]
  },
  {
   "cell_type": "markdown",
   "metadata": {},
   "source": [
    "**Expected output:**\n",
    "\n",
    "(7, 10, 43)\n",
    "\n",
    "---\n",
    "\n",
    "Second, implement the `find_max_subarray()` function."
   ]
  },
  {
   "cell_type": "code",
   "execution_count": 4,
   "metadata": {},
   "outputs": [],
   "source": [
    "def find_max_subarray(A, low, high):\n",
    "    if low == high:\n",
    "        ### START YOUR CODE ###\n",
    "        return(low, high, A[low])\n",
    "        ### END YOUR CODE ###\n",
    "    else:\n",
    "        ### START YOUR CODE ###\n",
    "        mid = int(np.floor((low+high)/2))\n",
    "        (left_low, left_high, left_sum) = find_max_subarray(A, low, mid)\n",
    "        (right_low, right_high, right_sum) = find_max_subarray(A, mid+1, high)\n",
    "        (cross_low, cross_high, cross_sum) = find_max_cross_subarray(A, low, mid, high)\n",
    "        if left_sum >= right_sum and left_sum >= cross_sum:\n",
    "            return (left_low, left_high, left_sum)\n",
    "        elif right_sum >= left_sum and right_sum >= cross_sum:\n",
    "            return (right_low, right_high, right_sum)\n",
    "        else:\n",
    "            return (cross_low, cross_high, cross_sum)\n",
    "        ### END YOUR CODE ###"
   ]
  },
  {
   "cell_type": "code",
   "execution_count": 5,
   "metadata": {},
   "outputs": [
    {
     "name": "stdout",
     "output_type": "stream",
     "text": [
      "The maximum subarray of arr1 is: arr1[7:10] (inclusive indices), and the sum is 43\n",
      "arr2 =  [2, 5, -10, -7, -7, -3, -1, 9, 8, -6, -4, 2, -9, -4, -3]\n",
      "The maximum subarray of arr2 is:arr1[7:8] (inclusive indices), and the sum is 17\n"
     ]
    }
   ],
   "source": [
    "# Test code. Do not change the code in this cell\n",
    "arr1 = [13,-3,-25,20,-3,-16,-23,18,20,-7,12,-5,-22,15,-4,7]\n",
    "\n",
    "l, h, s = find_max_subarray(arr1, 0, len(arr1)-1)\n",
    "print(f'The maximum subarray of arr1 is: arr1[{l}:{h}] (inclusive indices), and the sum is {s}')\n",
    "\n",
    "np.random.seed(0)\n",
    "arr2 = np.random.randint(-10, 11, 15).tolist()\n",
    "print('arr2 = ', arr2)\n",
    "l, h, s = find_max_subarray(arr2, 0, len(arr2)-1)\n",
    "print(f'The maximum subarray of arr2 is:arr1[{l}:{h}] (inclusive indices), and the sum is {s}')"
   ]
  },
  {
   "cell_type": "markdown",
   "metadata": {},
   "source": [
    "**Expected output:**\n",
    "\n",
    "The maximum subarray of arr1 is: arr1[7:10] (inclusive indices), and the sum is 43\\\n",
    "arr2 =  [2, 5, -10, -7, -7, -3, -1, 9, 8, -6, -4, 2, -9, -4, -3]\\\n",
    "The maximum subarray of arr2 is:arr1[7:8] (inclusive indices), and the sum is 17"
   ]
  },
  {
   "cell_type": "markdown",
   "metadata": {},
   "source": [
    "---\n",
    "\n",
    "## Task 2: Maximum difference pair problem\n",
    "\n",
    "**Points: 10**\n",
    "\n",
    "The maximum difference pair problem is a variant of maximum subarray problem. \n",
    "\n",
    "In this problem, you are given an array $A[0..n]$ of integers. You need to find a pair of indices (i, j) such that $0 <= i <= j <= n$ and $A[j] - A[i]$ is as large as possible.\n",
    "\n",
    "For example, the maximum difference pair of A=[5, 11, 2, 1, 7, 9, 0, 7] is $A[5] - A[3] = 8$\n",
    "\n",
    "Your task is to implement the `max_difference_pair()` that solves the problem.\n",
    "\n",
    "**NOTE**: `max_difference_pair()` returns a tuple of three integers, `(i, j, diff)`, in which `diff = A[j] - A[i]`\n",
    "\n",
    "You can implement it with a helper function that is similar to `find_max_cross_subarray()`, or you can implement all necesary steps in `max_difference_pair()`.\n",
    "\n",
    "**Hint**: Find the `mid` point of the input array, which splits the array into the `left` and `right` subarrays. The maximum difference pair is the maximum among the 3 cases: 1) entirely within `left`; 2) entirely within `right`; 3) the largest number in `right` minus the smallest number in `left`."
   ]
  },
  {
   "cell_type": "code",
   "execution_count": 12,
   "metadata": {},
   "outputs": [],
   "source": [
    "def max_difference_pair(A, low, high):\n",
    "    if low == high:\n",
    "        ### START YOUR CODE ###\n",
    "        return(low, high, A[high]-A[low])\n",
    "        ### END YOUR CODE ###\n",
    "    else:\n",
    "        ### START YOUR CODE ###\n",
    "        mid = int(np.floor((low+high)/2))\n",
    "        (left_low, left_high, left_difference) = max_difference_pair(A, low, mid)\n",
    "        (right_low, right_high, right_difference) = max_difference_pair(A, mid+1, high)\n",
    "        (cross_low, cross_high, cross_difference) = max_cross_diff_pair(A, low, mid, high)\n",
    "        if left_difference >= right_difference and left_difference >= cross_difference:\n",
    "            return (left_low, left_high, left_difference)\n",
    "        elif right_difference >= left_difference and right_difference >= cross_difference:\n",
    "            return (right_low, right_high, right_difference)\n",
    "        else:\n",
    "            return (cross_low, cross_high, cross_difference)\n",
    "        ### END YOUR CODE ###\n",
    "\n",
    "\n",
    "### Optional helper function ###\n",
    "def max_cross_diff_pair(A, low, mid, high):\n",
    "    ### START YOUR CODE ###\n",
    "    # assign smallest value in the data set\n",
    "    cross_low = A.index(min(A[low:mid+1]))\n",
    "    # assign largest value in the data set\n",
    "    cross_high = A.index(max(A[mid+1:high+1]))\n",
    "    # difference between largest and smallest\n",
    "    cross_diff = A[cross_high] - A[cross_low]\n",
    "    ### END YOUR CODE ###\n",
    "    return cross_low, cross_high, cross_diff"
   ]
  },
  {
   "cell_type": "code",
   "execution_count": 13,
   "metadata": {},
   "outputs": [
    {
     "name": "stdout",
     "output_type": "stream",
     "text": [
      "(3, 5, 8)\n",
      "arr2 =  [6, 1, 4, 4, 8, 10, 4, 6, 3, 5, 8, 7, 9, 9, 2]\n",
      "The maximum difference pair of arr2 is: arr2[5] - arr2[1] = 9\n"
     ]
    }
   ],
   "source": [
    "# Test code. Do not change the code in this cell\n",
    "arr1 = [5, 11, 2, 1, 7, 9, 0, 7]\n",
    "\n",
    "print(max_difference_pair(arr1, 0, len(arr1)-1))\n",
    "\n",
    "np.random.seed(0)\n",
    "arr2 = np.random.randint(1, 11, 15).tolist()\n",
    "print('arr2 = ', arr2)\n",
    "i, j, diff = max_difference_pair(arr2, 0, len(arr2)-1)\n",
    "print(f'The maximum difference pair of arr2 is: arr2[{j}] - arr2[{i}] = {diff}')"
   ]
  },
  {
   "cell_type": "markdown",
   "metadata": {},
   "source": []
  }
 ],
 "metadata": {
  "interpreter": {
   "hash": "25f78cd986e649f5a1fa57f7be9a497a8fd91952316ec3e436af56ac9acfc630"
  },
  "kernelspec": {
   "display_name": "Python 3 (ipykernel)",
   "language": "python",
   "name": "python3"
  },
  "language_info": {
   "codemirror_mode": {
    "name": "ipython",
    "version": 3
   },
   "file_extension": ".py",
   "mimetype": "text/x-python",
   "name": "python",
   "nbconvert_exporter": "python",
   "pygments_lexer": "ipython3",
   "version": "3.9.10"
  }
 },
 "nbformat": 4,
 "nbformat_minor": 2
}
