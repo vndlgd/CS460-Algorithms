{
 "cells": [
  {
   "cell_type": "markdown",
   "metadata": {},
   "source": [
    "# CS460 Algorithms and Their Analysis\n",
    "## Programming Assignment 1: Getting started with two sorting algorithms\n",
    "\n",
    "**Total points**: 20"
   ]
  },
  {
   "cell_type": "markdown",
   "metadata": {},
   "source": [
    "Import necessary packages. `numpy` is used to generate random testing sequences."
   ]
  },
  {
   "cell_type": "code",
   "execution_count": 2,
   "metadata": {},
   "outputs": [],
   "source": [
    "import numpy as np"
   ]
  },
  {
   "cell_type": "markdown",
   "metadata": {},
   "source": [
    "## Task 1: Insertion sort\n",
    "**Points: 5**\n",
    "\n",
    "Implement insertion sort by completing the following code"
   ]
  },
  {
   "cell_type": "code",
   "execution_count": 3,
   "metadata": {},
   "outputs": [],
   "source": [
    "def insertion_sort(A):\n",
    "    \"\"\" \n",
    "    Args\n",
    "        A: Input array (list)\n",
    "    returns\n",
    "        output: Input array sorted\n",
    "    \"\"\"\n",
    "    output = A.copy()\n",
    "\n",
    "    for j in range(1,len(output)):\n",
    "        key = output[j]\n",
    "        i = j - 1\n",
    "        ### START YOUR CODE ###\n",
    "        while i >= 0 and output[i] > key: \n",
    "            output[i + 1] = output[i]\n",
    "            i = i - 1\n",
    "        output[i + 1] = key\n",
    "        \n",
    "    return output"
   ]
  },
  {
   "cell_type": "code",
   "execution_count": 4,
   "metadata": {},
   "outputs": [
    {
     "name": "stdout",
     "output_type": "stream",
     "text": [
      "Input: [ 6  1  4  4  8 10  4  6  3  5  8  7  9  9  2]\n",
      "Output: [ 1  2  3  4  4  4  5  6  6  7  8  8  9  9 10]\n"
     ]
    }
   ],
   "source": [
    "# Test code. Do not change the code in this cell\n",
    "np.random.seed(0)\n",
    "\n",
    "arr = np.random.randint(1, 11, 15)\n",
    "print('Input:', arr)\n",
    "print('Output:', insertion_sort(arr))"
   ]
  },
  {
   "cell_type": "markdown",
   "metadata": {},
   "source": [
    "**Expected output:**\n",
    "\n",
    "Input: [ 6  1  4  4  8 10  4  6  3  5  8  7  9  9  2]\\\n",
    "Output: [ 1  2  3  4  4  4  5  6  6  7  8  8  9  9 10]\n",
    "\n",
    "---\n",
    "\n",
    "## Task 2: Print intermediate information within insertion sort\n",
    "**Points: 2**\n",
    "\n",
    "Implement a verbose version of insertion sort, which prints the number of swaps occurred in each iteration, and also returns the total number of swaps."
   ]
  },
  {
   "cell_type": "code",
   "execution_count": 5,
   "metadata": {},
   "outputs": [],
   "source": [
    "def insertion_sort_verbose(A):\n",
    "    \"\"\" \n",
    "    Args\n",
    "        A: Input array (list)\n",
    "    returns\n",
    "        output: Input array sorted\n",
    "        count: The total number of swaps occurred\n",
    "    \"\"\"\n",
    "    output = A.copy()\n",
    "\n",
    "    count = 0\n",
    "    for j in range(1,len(output)):\n",
    "        key = output[j]\n",
    "        i = j - 1\n",
    "        tmp = 0\n",
    "        ### START YOUR CODE ###\n",
    "        while i >= 0 and output[i] > key:\n",
    "            # Note that you need to update the `tmp` and `count` variables\n",
    "            output[i + 1] = output[i]\n",
    "            i = i - 1\n",
    "            tmp = tmp + 1\n",
    "        output[i + 1] = key\n",
    "        count = count + tmp\n",
    "        ### END YOUR CODE ###\n",
    "        print(f'Iteration {j}: {tmp} swaps')\n",
    "\n",
    "    return output, count"
   ]
  },
  {
   "cell_type": "code",
   "execution_count": 6,
   "metadata": {},
   "outputs": [
    {
     "name": "stdout",
     "output_type": "stream",
     "text": [
      "Iteration 1: 1 swaps\n",
      "Iteration 2: 1 swaps\n",
      "Iteration 3: 0 swaps\n",
      "Iteration 4: 4 swaps\n",
      "Iteration 5: 3 swaps\n",
      "Input: [5, 2, 4, 6, 1, 3]\n",
      "Output: [1, 2, 3, 4, 5, 6]\n",
      "count: 9\n"
     ]
    }
   ],
   "source": [
    "# Test code. Do not change the code in this cell\n",
    "\n",
    "arr = [5,2,4,6,1,3]\n",
    "output, count = insertion_sort_verbose(arr)\n",
    "print('Input:', arr)\n",
    "print('Output:', output)\n",
    "print('count:', count)"
   ]
  },
  {
   "cell_type": "markdown",
   "metadata": {},
   "source": [
    "**Expected output:**\n",
    "\n",
    "Iteration 1: 1 swaps\\\n",
    "Iteration 2: 1 swaps\\\n",
    "Iteration 3: 0 swaps\\\n",
    "Iteration 4: 4 swaps\\\n",
    "Iteration 5: 3 swaps\\\n",
    "Input: [5, 2, 4, 6, 1, 3]\\\n",
    "Output: [1, 2, 3, 4, 5, 6\\\n",
    "count: 9\n",
    "\n",
    "---"
   ]
  },
  {
   "cell_type": "markdown",
   "metadata": {},
   "source": [
    "## Task 3: Merge sort\n",
    "**Points: 10**\n",
    "\n",
    "Implement the merge sort algorithm. There are two functions, `merge()` and `merge_sort()`.\n",
    "\n",
    "*Hint*: `merge_sort()` should return the output array in both recursion conditions. "
   ]
  },
  {
   "cell_type": "code",
   "execution_count": 7,
   "metadata": {},
   "outputs": [],
   "source": [
    "def merge(left, right):\n",
    "    \"\"\"\n",
    "    Args\n",
    "        left: Input array (list)\n",
    "    Returns\n",
    "        merged: Merged output\n",
    "    \"\"\"\n",
    "    merged = left + right\n",
    "    left.append(float('inf'))\n",
    "    right.append(float('inf'))\n",
    "\n",
    "    ### START YOUR CODE ###\n",
    "    # Initialize i, j to proper values\n",
    "    i, j = 0, 0\n",
    "    # Replace `None` with the proper range of the for loop\n",
    "    for k in range(len(merged)): \n",
    "        # Use a proper if condition\n",
    "        if left[i] <= right[j]: \n",
    "            # Replace `pass` with the code for copying element back to `merged` and incrementing `i` or `j`\n",
    "            merged[k] = left[i]\n",
    "            i = i + 1\n",
    "        else:\n",
    "            # Replace `pass` with the code for copying element back to `merged` and incrementing `i` or `j`\n",
    "            merged[k] = right[j]\n",
    "            j = j + 1\n",
    "    ### END YOUR CODE ###\n",
    "\n",
    "    return merged\n",
    "\n",
    "\n",
    "def merge_sort(arr):\n",
    "    \"\"\"\n",
    "    \"\"\"\n",
    "    if len(arr) > 1:\n",
    "        ### START YOUR CODE ###\n",
    "        # Replace `None` with the code for computing the mid-point of `arr`\n",
    "        mid = int(np.floor(len(arr) / 2))\n",
    "        left = merge_sort(arr[:mid])\n",
    "        # Recursive call of `merge_sort` on the right half of input\n",
    "        right = merge_sort(arr[mid:]) \n",
    "        # Replace `None` with the proper code of calling `merge`\n",
    "        return merge(left, right) \n",
    "        ### END YOUR CODE ###\n",
    "    else:\n",
    "        ### START YOUR CODE ###\n",
    "        return arr \n",
    "        ### END YOUR CODE ###"
   ]
  },
  {
   "cell_type": "code",
   "execution_count": 8,
   "metadata": {},
   "outputs": [
    {
     "name": "stdout",
     "output_type": "stream",
     "text": [
      "Input: [6, 9, 10, 6, 1, 1, 2, 8, 7, 10, 3, 5, 6, 3, 5]\n",
      "Output: [1, 1, 2, 3, 3, 5, 5, 6, 6, 6, 7, 8, 9, 10, 10]\n"
     ]
    }
   ],
   "source": [
    "# Test code. Do not change the code in this cell\n",
    "np.random.seed(1)\n",
    "arr = np.random.randint(1, 11, 15).tolist()\n",
    "output = merge_sort(arr)\n",
    "print('Input:', arr)\n",
    "print('Output:', output)"
   ]
  },
  {
   "cell_type": "markdown",
   "metadata": {},
   "source": [
    "**Expected output**\n",
    "\n",
    "Input: [6, 9, 10, 6, 1, 1, 2, 8, 7, 10, 3, 5, 6, 3, 5]\\\n",
    "Output: [1, 1, 2, 3, 3, 5, 5, 6, 6, 6, 7, 8, 9, 10, 10]\n",
    "\n",
    "---"
   ]
  },
  {
   "cell_type": "markdown",
   "metadata": {},
   "source": [
    "### Congratulations!\n",
    "You have successfully implemented insertion sort and merge sort algorithms with Python."
   ]
  }
 ],
 "metadata": {
  "interpreter": {
   "hash": "25f78cd986e649f5a1fa57f7be9a497a8fd91952316ec3e436af56ac9acfc630"
  },
  "kernelspec": {
   "display_name": "Python 3 (ipykernel)",
   "language": "python",
   "name": "python3"
  },
  "language_info": {
   "codemirror_mode": {
    "name": "ipython",
    "version": 3
   },
   "file_extension": ".py",
   "mimetype": "text/x-python",
   "name": "python",
   "nbconvert_exporter": "python",
   "pygments_lexer": "ipython3",
   "version": "3.9.10"
  }
 },
 "nbformat": 4,
 "nbformat_minor": 2
}
