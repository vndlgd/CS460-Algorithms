{
 "cells": [
  {
   "cell_type": "markdown",
   "metadata": {},
   "source": [
    "# CS460 Algorithms and Their Analysis\n",
    "## Programming Assignment 4: Dynamic programming algorithms -- Matrix chain multiplication\n",
    "\n",
    "**Author:** Yang Xu, Assistant Professor of Computer Science, San Diego State University\n",
    "\n",
    "**Total points: 10**"
   ]
  },
  {
   "cell_type": "markdown",
   "metadata": {
    "pycharm": {
     "name": "#%% md\n"
    }
   },
   "source": [
    "## Task 1: Implement Matrix-chain-order procudure\n",
    "**Points: 4**\n",
    "\n",
    "Implement the `matrix_chain_order()` function following the pseudo code.\n",
    "\n",
    "- The `m` and `s` 2D arrays are represented by list of lists\n",
    "- Note that when using `range()` to set the range of for loop, the upper bound is exclusive.\n",
    "- the indices of solution matrix `s` start with 2 in the pseudo code, but here they start with 0. This means you need to adjust the indices when accessing the $i$th row and $j$th column of `s`."
   ]
  },
  {
   "cell_type": "code",
   "execution_count": 1,
   "metadata": {
    "pycharm": {
     "name": "#%%\n"
    }
   },
   "outputs": [],
   "source": [
    "import numpy as np \n",
    "\n",
    "def matrix_chain_order(p):\n",
    "    n = len(p)-1\n",
    "    ### START YOUR CODE ###\n",
    "    m = [[0 for _ in range(n+1)] for _ in range(n+1)]\n",
    "    s = [[0 for _ in range(n)] for _ in range(n)]\n",
    "    ### END YOUR CODE ###\n",
    "\n",
    "    ### START YOUR CODE ###\n",
    "    for l in range(2, n+1): # Specify the range\n",
    "        for i in range(1, n-l+2): # Specify the range\n",
    "            j = i + l - 1 # Initialize\n",
    "            m[i][j] = float('inf')\n",
    "            for k in range(i, j): # Specify the range\n",
    "                q = m[i][k] + m[k+1][j] + p[i-1]*p[k]*p[j]\n",
    "                if q < m[i][j]:\n",
    "                    m[i][j] = q # Update m\n",
    "                    s[i-1][j-1] = k # Update s\n",
    "    ### END YOUR CODE ###\n",
    "\n",
    "    return m, s"
   ]
  },
  {
   "cell_type": "code",
   "execution_count": 2,
   "metadata": {
    "pycharm": {
     "name": "#%%\n"
    }
   },
   "outputs": [
    {
     "name": "stdout",
     "output_type": "stream",
     "text": [
      "[[    0     0     0     0     0]\n",
      " [    0     0 15750  7875  9375]\n",
      " [    0     0     0  2625  4375]\n",
      " [    0     0     0     0   750]\n",
      " [    0     0     0     0     0]]\n",
      "[[0 1 1 3]\n",
      " [0 0 2 3]\n",
      " [0 0 0 3]\n",
      " [0 0 0 0]]\n"
     ]
    }
   ],
   "source": [
    "# Do not change the test code here\n",
    "p = [30, 35, 15, 5, 10]\n",
    "m, s = matrix_chain_order(p)\n",
    "print(np.array(m))\n",
    "print(np.array(s))"
   ]
  },
  {
   "cell_type": "markdown",
   "metadata": {
    "pycharm": {
     "name": "#%% md\n"
    }
   },
   "source": [
    "**Expected output**:\n",
    "\n",
    "[[    0     0     0     0     0]\\\n",
    " [    0     0 15750  7875  9375]\\\n",
    " [    0     0     0  2625  4375]\\\n",
    " [    0     0     0     0   750]\\\n",
    " [    0     0     0     0     0]]\n",
    "\n",
    "[[0 1 1 3]\\\n",
    " [0 0 2 3]\\\n",
    " [0 0 0 3]\\\n",
    " [0 0 0 0]]"
   ]
  },
  {
   "cell_type": "markdown",
   "metadata": {
    "pycharm": {
     "name": "#%% md\n"
    }
   },
   "source": [
    "## Task 2: Implement print-optimal-parens procedure\n",
    "**Points: 2**\n",
    "\n",
    "Implement the `print_optimal_parens()` function following the pseudo code."
   ]
  },
  {
   "cell_type": "code",
   "execution_count": 3,
   "metadata": {
    "pycharm": {
     "name": "#%%\n"
    }
   },
   "outputs": [],
   "source": [
    "def print_optimal_parens(s, i, j):\n",
    "    if i == j:\n",
    "        print(\"A\" + str(i), end=\" \")\n",
    "    else:\n",
    "        print(\"(\", end=\" \")\n",
    "        ### START YOUR CODE ###\n",
    "        # Specify two recursive calls correctly\n",
    "        print_optimal_parens(s, i, s[i-1][j-1])\n",
    "        print_optimal_parens(s, s[i-1][j-1] + 1, j)\n",
    "        ### END YOUR CODE ###\n",
    "        print(\")\", end=\" \")"
   ]
  },
  {
   "cell_type": "code",
   "execution_count": 4,
   "metadata": {
    "pycharm": {
     "name": "#%%\n"
    }
   },
   "outputs": [
    {
     "name": "stdout",
     "output_type": "stream",
     "text": [
      "( ( A1 ( A2 A3 ) ) A4 ) "
     ]
    }
   ],
   "source": [
    "# Do not change the test code here\n",
    "p = [30, 35, 15, 5, 10]\n",
    "m, s = matrix_chain_order(p)\n",
    "print_optimal_parens(s, 1, len(p)-1)"
   ]
  },
  {
   "cell_type": "markdown",
   "metadata": {
    "pycharm": {
     "name": "#%% md\n"
    }
   },
   "source": [
    "**Expected output**:\n",
    "\n",
    "( ( A1 ( A2 A3 ) ) A4 )\n",
    "\n",
    "---"
   ]
  },
  {
   "cell_type": "markdown",
   "metadata": {
    "pycharm": {
     "name": "#%% md\n"
    }
   },
   "source": [
    "## Task 3: Implement the top-down solution\n",
    "**Points: 4**\n",
    "\n",
    "Implement the `memoized_matrix_chain()` and `lookup_chain()` functions following the pseudo code."
   ]
  },
  {
   "cell_type": "code",
   "execution_count": 5,
   "metadata": {
    "pycharm": {
     "name": "#%%\n"
    }
   },
   "outputs": [],
   "source": [
    "def memoized_matrix_chain(p):\n",
    "    n = len(p) - 1\n",
    "    ### START YOUR CODE ###\n",
    "    m = [[0 for _ in range(n+1)] for _ in range(n+1)] # Initialize m to the correct size\n",
    "    for i in range(n): # Specxify the range\n",
    "        for j in range(i, n+1): # Specxify the range\n",
    "            m[i][j] = float('inf')\n",
    "\n",
    "    return lookup_chain(m, p, 1, n) # Call lookup_chain correctly\n",
    "    ### END YOUR CODE ###\n",
    "\n",
    "def lookup_chain(m, p, i, j):\n",
    "    ### START YOUR CODE ###\n",
    "    if m[i][j] < float('inf'):\n",
    "        return m[i][j] # Return the correct value\n",
    "    if i == j:\n",
    "        m[i][j] = 0 # Update m\n",
    "    else:\n",
    "        for k in range(i, j): # Specify the range\n",
    "            q = lookup_chain(m, p, i, k) + lookup_chain(m, p, k+1, j) + p[i-1]*p[k]*p[j] # Compute q\n",
    "            if q < m[i][j]:\n",
    "                m[i][j] = q # Update m\n",
    "\n",
    "    return m[i][j] # Return the correct value\n",
    "    ### END YOUR CODE ###"
   ]
  },
  {
   "cell_type": "code",
   "execution_count": 6,
   "metadata": {
    "pycharm": {
     "name": "#%%\n"
    }
   },
   "outputs": [
    {
     "name": "stdout",
     "output_type": "stream",
     "text": [
      "9375\n"
     ]
    }
   ],
   "source": [
    "# Do not change the test code here\n",
    "p = [30, 35, 15, 5, 10]\n",
    "print(memoized_matrix_chain(p))"
   ]
  },
  {
   "cell_type": "markdown",
   "metadata": {
    "pycharm": {
     "name": "#%% md\n"
    }
   },
   "source": [
    "**Expected output**\n",
    "\n",
    "9375"
   ]
  }
 ],
 "metadata": {
  "kernelspec": {
   "display_name": "Python 3 (ipykernel)",
   "language": "python",
   "name": "python3"
  },
  "language_info": {
   "codemirror_mode": {
    "name": "ipython",
    "version": 3
   },
   "file_extension": ".py",
   "mimetype": "text/x-python",
   "name": "python",
   "nbconvert_exporter": "python",
   "pygments_lexer": "ipython3",
   "version": "3.9.10"
  }
 },
 "nbformat": 4,
 "nbformat_minor": 1
}
