{
 "cells": [
  {
   "cell_type": "markdown",
   "id": "71cec549-bfd3-4647-b153-637b45c7776d",
   "metadata": {},
   "source": [
    "# CS460 Algorithms and Their Analysis \n",
    "## Programming Assignment 3: Linear time sorting algorithms\n",
    "\n",
    "**Author:** Yang Xu, Assistant Professor of Computer Science, San Diego State University\n",
    "\n",
    "**Total points: 12 + 4(bonus)**"
   ]
  },
  {
   "cell_type": "code",
   "execution_count": 4,
   "id": "9c5c0e9a-90a5-47e0-8be6-5bb1d6338cf5",
   "metadata": {},
   "outputs": [],
   "source": [
    "import numpy as np\n",
    "import timeit"
   ]
  },
  {
   "cell_type": "markdown",
   "id": "6484ade1",
   "metadata": {},
   "source": [
    "## Task 1: Implement counting sort\n",
    "**Points: 3**\n",
    "\n",
    "Implement `counting_sort()` by following the pseudo-code in lecture slides/textbook.\n",
    "\n",
    "*Hint*: Since the index of Python array starts with 0, when using `C[i]` to copy element to the final array, the index needs be adjusted."
   ]
  },
  {
   "cell_type": "code",
   "execution_count": 1,
   "id": "4029168e",
   "metadata": {
    "pycharm": {
     "name": "#%%\n"
    }
   },
   "outputs": [],
   "source": [
    "def counting_sort(arr, k):\n",
    "    \"\"\"\n",
    "    :param arr: list of int, the array to be sorted\n",
    "    :param k: each integer number in array is within the range [0,k]\n",
    "    :return: arr sorted\n",
    "    \"\"\"\n",
    "    # Initialize the helper array C\n",
    "    ### START YOUR CODE ###\n",
    "    C = [0 for i in range(k+1)] # Initialize C with the correct length\n",
    "    ### END YOUR CODE ###\n",
    "\n",
    "    # Fill in C with correct values, so that C[i] holds the number of elements in arr that are equal to i\n",
    "    ### START YOUR CODE ###\n",
    "    for j in range(0, len(arr)):\n",
    "        C[arr[j]] = C[arr[j]] + 1\n",
    "    ### END YOUR CODE ###\n",
    "\n",
    "    # Fill in C with correct values, so that now C[i] holds the number of elements in arr that are less than or equal to i\n",
    "    ### START YOUR CODE ###\n",
    "    for i in range(1, k+1):\n",
    "        C[i] = C[i] + C[i-1]\n",
    "    ### END YOUR CODE ###\n",
    "\n",
    "    # Initialize the final sorted array\n",
    "    sorted_arr = [0 for i in range(len(arr))]\n",
    "\n",
    "    # Copy each element in arr to its correct position in sorted_arr\n",
    "    ### START YOUR CODE ###\n",
    "    for j in range(len(arr)-1, -1, -1): # Specify the correct loop range. Hint: use reversed(), or range() with a negative step\n",
    "        # Hint: when copying to sorted_arr, the index needs be adjusted\n",
    "        sorted_arr[C[arr[j]]-1] = arr[j]\n",
    "        C[arr[j]] = C[arr[j]] - 1\n",
    "    ### END YOUR CODE ###\n",
    "\n",
    "    return sorted_arr"
   ]
  },
  {
   "cell_type": "code",
   "execution_count": 5,
   "id": "c59b8c67",
   "metadata": {
    "pycharm": {
     "name": "#%%\n"
    }
   },
   "outputs": [
    {
     "name": "stdout",
     "output_type": "stream",
     "text": [
      "arr sorted: [0, 0, 2, 2, 3, 3, 3, 5]\n"
     ]
    }
   ],
   "source": [
    "# Do NOT change the test code here.\n",
    "arr = [2,5,3,0,2,3,0,3]\n",
    "arr_sorted = counting_sort(arr, k=max(arr))\n",
    "\n",
    "print('arr sorted:', arr_sorted)"
   ]
  },
  {
   "cell_type": "markdown",
   "id": "024db103",
   "metadata": {},
   "source": [
    "**Expected output**:\n",
    "\n",
    "arr sorted: [0, 0, 2, 2, 3, 3, 3, 5]\n",
    "\n",
    "---\n",
    "Next, you can compare your implementation of counting sort with the Python built-in sorted().\n"
   ]
  },
  {
   "cell_type": "code",
   "execution_count": 6,
   "id": "43826582",
   "metadata": {
    "pycharm": {
     "name": "#%%\n"
    }
   },
   "outputs": [
    {
     "name": "stdout",
     "output_type": "stream",
     "text": [
      "counting_sort(): 0.14959158300000297\n",
      "Built-in sorted(): 0.010640332999997781\n"
     ]
    }
   ],
   "source": [
    "def test1():\n",
    "    np.random.seed(1)\n",
    "    arr = np.random.randint(1000, size=100).tolist()\n",
    "    counting_sort(arr, k=max(arr))\n",
    "\n",
    "def test2():\n",
    "    np.random.seed(1)\n",
    "    arr = np.random.randint(1000, size=100).tolist()\n",
    "    sorted(arr)\n",
    "\n",
    "print('counting_sort():', timeit.timeit('test1()', globals=globals(), number=1000))\n",
    "print('Built-in sorted():', timeit.timeit('test2()', globals=globals(), number=1000))"
   ]
  },
  {
   "cell_type": "markdown",
   "id": "afab12cb",
   "metadata": {},
   "source": [
    "---\n",
    "## Task 2: Implement an enhanced counting sort\n",
    "**Points: 3**\n",
    "\n",
    "Implement an enhanced version of counting sort, which can allow negative integers in the input array, and the length of array `C` is automatically calculated, so that no `k` parameter is needed.\n",
    "\n",
    "*Hint*: Use the maximum and minimum elements in the input array to decide the size of `C`. Because the minimum is not necessarily 0, the count of integer `i` is no longer stored in `C[i]`, but in a new index."
   ]
  },
  {
   "cell_type": "code",
   "execution_count": 24,
   "id": "64270761",
   "metadata": {
    "pycharm": {
     "name": "#%%\n"
    }
   },
   "outputs": [],
   "source": [
    "def counting_sort_enhanced(arr):\n",
    "    \"\"\"\n",
    "    :param arr: list of int, the array to be sorted\n",
    "    :return: arr sorted\n",
    "    \"\"\"\n",
    "    ### START YOUR CODE ###\n",
    "    max_num = max(arr)\n",
    "    min_num = min(arr)\n",
    "    C = [0 for i in range(max_num-min_num+1)] # Initialize C with the correct length calculated from max_num and min_num\n",
    "    ### END YOUR CODE ###\n",
    "\n",
    "    # Fill in C with correct values. Hint: should use an index different from C[i]\n",
    "    ### START YOUR CODE ###\n",
    "    for j in range(len(arr)):\n",
    "        C[arr[j] - min_num] = C[arr[j] - min_num] + 1\n",
    "    ### END YOUR CODE ###\n",
    "\n",
    "    # Update C with correct values\n",
    "    ### START YOUR CODE ###\n",
    "    for i in range(1, len(C)):\n",
    "        C[i] = C[i] + C[i-1]\n",
    "    ### END YOUR CODE ###\n",
    "\n",
    "    # Initialize the final sorted array\n",
    "    sorted_arr = [0] * len(arr)\n",
    "\n",
    "    # Copy each element in arr to its correct position in sorted_arr\n",
    "    # Hint: also use a different index for elements in C\n",
    "    ### START YOUR CODE ###\n",
    "    for j in range(len(arr)-1, -1, -1):\n",
    "        # Hint: when copying to sorted_arr, the index needs be adjusted\n",
    "        sorted_arr[C[arr[j]-min_num]-1] = arr[j]\n",
    "        C[arr[j]-min_num] = C[arr[j]-min_num] - 1\n",
    "    ### END YOUR CODE ###\n",
    "\n",
    "    return sorted_arr"
   ]
  },
  {
   "cell_type": "code",
   "execution_count": 25,
   "id": "136169d8",
   "metadata": {
    "pycharm": {
     "name": "#%%\n"
    }
   },
   "outputs": [
    {
     "name": "stdout",
     "output_type": "stream",
     "text": [
      "arr sorted: [-4, -3, -2, 0, 0, 0, 2, 2, 3, 3, 3, 5]\n"
     ]
    }
   ],
   "source": [
    "# Do NOT change the test code here.\n",
    "arr = [2,5,3,0,2,3,0,3] + [-2, -3, 0, -4]\n",
    "arr_sorted = counting_sort_enhanced(arr)\n",
    "\n",
    "print('arr sorted:', arr_sorted)"
   ]
  },
  {
   "cell_type": "markdown",
   "id": "04c57589",
   "metadata": {},
   "source": [
    "**Expected output**:\n",
    "\n",
    "arr sorted: [-4, -3, -2, 0, 0, 0, 2, 2, 3, 3, 3, 5]\n",
    "\n",
    "---\n",
    "\n",
    "## Task 3 (Bonus): Apply counting sort to string\n",
    "**Points: 1** (Bonus)\n",
    "\n",
    "By converting each character in a string to its integer representation, you can apply counting sort on it and as a result, obtain an output string in which all the same characters get aggregated.\n",
    "\n",
    "*Hint*: Use the built-in `ord()` function to convert character to integer, and use `chr()` for the other way around."
   ]
  },
  {
   "cell_type": "code",
   "execution_count": 41,
   "id": "0ea706e3",
   "metadata": {
    "pycharm": {
     "name": "#%%\n"
    }
   },
   "outputs": [
    {
     "name": "stdout",
     "output_type": "stream",
     "text": [
      "input_integers: [104, 101, 108, 108, 111, 44, 119, 111, 114, 108, 100, 33]\n",
      "sorted_integers: [33, 44, 100, 101, 104, 108, 108, 108, 111, 111, 114, 119]\n",
      "sorted_string: !,dehllloorw\n"
     ]
    }
   ],
   "source": [
    "input_string = 'hello,world!'\n",
    "### START YOUR CODE ###\n",
    "input_integers = list(input_string)\n",
    "for i in range(len(input_integers)):\n",
    "    input_integers[i] = ord(input_integers[i])\n",
    "### END YOUR CODE ###\n",
    "print('input_integers:', input_integers)\n",
    "\n",
    "### START YOUR CODE ###\n",
    "sorted_integers = counting_sort(input_integers, k=max(input_integers)) # Apply counting sort\n",
    "### END YOUR CODE ###\n",
    "print('sorted_integers:', sorted_integers)\n",
    "\n",
    "### START YOUR CODE ###\n",
    "sorted_string = sorted_integers # Use chr() and the join() function of string\n",
    "for j in range(len(sorted_integers)):\n",
    "    sorted_string[j] = chr(sorted_integers[j])\n",
    "sorted_string = ''.join(sorted_string)\n",
    "### END YOUR CODE ###\n",
    "print('sorted_string:', sorted_string)"
   ]
  },
  {
   "cell_type": "markdown",
   "id": "721e45e4-da1d-4b3f-abee-821a5f4142ca",
   "metadata": {},
   "source": [
    "**Expected output**:\n",
    "\n",
    "input_integers: [104, 101, 108, 108, 111, 44, 119, 111, 114, 108, 100, 33]\\\n",
    "sorted_integers: [33, 44, 100, 101, 104, 108, 108, 108, 111, 111, 114, 119]\\\n",
    "sorted_string: !,dehllloorw\n",
    "\n",
    "---\n",
    "\n",
    "## Task 4: Implement the bucket sort\n",
    "**Points: 3**\n",
    "\n",
    "Implement `bucket_sort()` by following the pseudo-code in lecture slides/textbook.\n",
    "\n",
    "Note the function takes an argument `num_buckets` as input, which indicates that number of buckets to be used. If it is `None`, then `len(arr)` will be used as the default number of buckets.\n",
    "\n",
    "*Hint*: You can use `int()` in Python to convert a float number to its floor integer. You can use a nested for loop or the `itertools` package to concatenate buckets."
   ]
  },
  {
   "cell_type": "code",
   "execution_count": 122,
   "id": "168511d2-3c0d-4743-ae61-d8047a2d928d",
   "metadata": {},
   "outputs": [],
   "source": [
    "def bucket_sort(arr, num_buckets = None):\n",
    "    \"\"\"\n",
    "    Params:\n",
    "        arr: list\n",
    "        num_buckets: int\n",
    "    Return:\n",
    "        arr_sorted: list, the sorted arr\n",
    "    \"\"\"\n",
    "    if num_buckets is None:\n",
    "        num_buckets = len(arr)\n",
    "\n",
    "    # Initialize the \"buckets\", i.e., a list of lists, which plays similar role as the B array in the textbook pseudo code\n",
    "    ### START YOUR CODE ###\n",
    "    buckets = []\n",
    "    for i in range(num_buckets):\n",
    "        buckets.append([])\n",
    "    ### END YOUR CODE ###\n",
    "\n",
    "    ### START YOUR CODE ###\n",
    "    # Place each element in arr to the correct bucket. Hint: you can use int() to calculate the floor\n",
    "    for el in arr:\n",
    "        index = int(num_buckets*el)\n",
    "        buckets[index].append(el)\n",
    "    ### END YOUR CODE ###\n",
    "\n",
    "    ### START YOUR CODE ###\n",
    "    # Use built in sorted fucntion \n",
    "    # Concatenate all buckets together in order. Hint: You can use a nested for loop or the `itertools` package to concatenate buckets.\n",
    "    sorted_arr = arr\n",
    "    k = 0\n",
    "    for i in range(len(buckets)): \n",
    "        for j in range(len(buckets[i])):\n",
    "            buckets[i] = sorted(buckets[i])\n",
    "            sorted_arr[k] = buckets[i][j]\n",
    "            k += 1\n",
    "    ### END YOUR CODE ###\n",
    "\n",
    "    return sorted_arr"
   ]
  },
  {
   "cell_type": "code",
   "execution_count": 123,
   "id": "b028c543-36d9-4a0d-948d-c0829a348229",
   "metadata": {},
   "outputs": [
    {
     "name": "stdout",
     "output_type": "stream",
     "text": [
      "arr sorted: [0.12, 0.17, 0.21, 0.23, 0.26, 0.39, 0.68, 0.72, 0.78, 0.94]\n"
     ]
    }
   ],
   "source": [
    "# Do NOT change the test code here.\n",
    "arr = [.78, .17, .39, .26, .72, .94, .21, .12, .23, .68]\n",
    "arr_sorted = bucket_sort(arr)\n",
    "\n",
    "print('arr sorted:', arr_sorted)"
   ]
  },
  {
   "cell_type": "markdown",
   "id": "38dc5570",
   "metadata": {},
   "source": [
    "**Expected output**\n",
    "\n",
    "arr sorted: [0.12, 0.17, 0.21, 0.23, 0.26, 0.39, 0.68, 0.72, 0.78, 0.94]\n",
    "\n",
    "---\n",
    "Next, you can compare your implementation of bucket sort with the Python built-in `sorted()`.\n",
    "\n",
    "Play around different `num_buckets` values in `test1()`. You can set it to `None` to see how that influences the running time."
   ]
  },
  {
   "cell_type": "code",
   "execution_count": 124,
   "id": "da0f1e26",
   "metadata": {
    "pycharm": {
     "name": "#%%\n"
    }
   },
   "outputs": [
    {
     "name": "stdout",
     "output_type": "stream",
     "text": [
      "bucket_sort(): 0.6834430829985649\n",
      "Built-in sorted(): 0.06172066699946299\n"
     ]
    }
   ],
   "source": [
    "def test1():\n",
    "    np.random.seed(1)\n",
    "    arr = np.random.rand(1000).tolist()\n",
    "    bucket_sort(arr, num_buckets=10)\n",
    "\n",
    "def test2():\n",
    "    np.random.seed(1)\n",
    "    arr = np.random.rand(1000).tolist()\n",
    "    sorted(arr)\n",
    "\n",
    "print('bucket_sort():', timeit.timeit('test1()', globals=globals(), number=1000))\n",
    "print('Built-in sorted():', timeit.timeit('test2()', globals=globals(), number=1000))"
   ]
  },
  {
   "cell_type": "markdown",
   "id": "cd2b5e08",
   "metadata": {},
   "source": [
    "---\n",
    "\n",
    "## Task 5: Implement an enhanced bucket sort\n",
    "**Points: 3**\n",
    "\n",
    "Implement an enhanced version of bucket sort, which supports the sorting of numbers within arbitrary ranges. The number of buckets is decided by the difference between the maximum and minimum values of the input.\n",
    "\n",
    "*Hint*: The number of buckets should be $\\lceil max - min\\rceil$. Use the difference between a number and $min$ to decide which bucket to insert it."
   ]
  },
  {
   "cell_type": "code",
   "execution_count": 187,
   "id": "24071c84",
   "metadata": {
    "pycharm": {
     "name": "#%%\n"
    }
   },
   "outputs": [],
   "source": [
    "def bucket_sort_enhanced(arr):\n",
    "    \"\"\"\n",
    "    :param arr: list, input array\n",
    "    :return: list, the sorted array\n",
    "    \"\"\"\n",
    "    ### START YOUR CODE ###\n",
    "    min_value = min(arr)\n",
    "    max_value = max(arr)\n",
    "    num_buckets = int(max_value - min_value) # Calculate the number of buckets\n",
    "    num_buckets = int(num_buckets) + 1 # 0 - 14 to store -10 through 4 \n",
    "    buckets = [] # Initialize buckets\n",
    "    for i in range(num_buckets):\n",
    "        buckets.append([])\n",
    "    ### END YOUR CODE ###\n",
    "\n",
    "    ### START YOUR CODE ###\n",
    "    # Place each element in arr to the correct bucket.\n",
    "    for i in range(len(arr)):\n",
    "        index = int(arr[i] - min_value)\n",
    "        buckets[index].append(arr[i])\n",
    "    ### END YOUR CODE ###\n",
    "\n",
    "    ### START YOUR CODE ###\n",
    "    # Concatenate all buckets together in order. Hint: You can use a nested for loop or the `itertools` package to concatenate buckets.\n",
    "    sorted_arr = []\n",
    "    for i in range(len(arr)):\n",
    "        sorted_arr.append(0)\n",
    "    k = 0\n",
    "    for i in range(len(buckets)): \n",
    "        for j in range(len(buckets[i])):\n",
    "            buckets[i] = sorted(buckets[i])\n",
    "            sorted_arr[k] = buckets[i][j]\n",
    "            k += 1\n",
    "    ### END YOUR CODE ###\n",
    "\n",
    "    return sorted_arr"
   ]
  },
  {
   "cell_type": "code",
   "execution_count": 188,
   "id": "1a418392",
   "metadata": {
    "pycharm": {
     "name": "#%%\n"
    }
   },
   "outputs": [
    {
     "name": "stdout",
     "output_type": "stream",
     "text": [
      "arr: [ -1.66   4.41 -10.    -3.95  -7.06  -8.15  -6.27  -3.09  -2.06   0.78]\n",
      "arr sorted: [-10.    -8.15  -7.06  -6.27  -3.95  -3.09  -2.06  -1.66   0.78   4.41]\n"
     ]
    }
   ],
   "source": [
    "# Do NOT change the test code here.\n",
    "np.random.seed(1)\n",
    "arr = (np.random.rand(10) * 20 - 10).tolist()\n",
    "arr_sorted = bucket_sort_enhanced(arr)\n",
    "\n",
    "np.set_printoptions(precision=2)\n",
    "print('arr:', np.array(arr))\n",
    "print('arr sorted:', np.array(arr_sorted))"
   ]
  },
  {
   "cell_type": "markdown",
   "id": "b8e8e7af",
   "metadata": {
    "pycharm": {
     "name": "#%% md\n"
    }
   },
   "source": [
    "**Expected output**\n",
    "\n",
    "arr: [ -1.66   4.41 -10.    -3.95  -7.06  -8.15  -6.27  -3.09  -2.06   0.78]\\\n",
    "arr sorted: [-10.    -8.15  -7.06  -6.27  -3.95  -3.09  -2.06  -1.66   0.78   4.41]\n",
    "\n",
    "---\n",
    "\n",
    "## Task 6 (Bonus): Implement radix sort\n",
    "**Points: 3** (Bonus)\n",
    "\n",
    "Implement radix sort with following `radix_sort()` function.\n",
    "\n",
    "*Hints*: A temporary object `tmp_list` is used to organize all numbers that share the same digits at a certain position. For example, in the input array `[531, 130, 320, 181]`,`320` and `130` both have digit `0` at position 1, so they should be appended to `tmp_list[0]`. `531` and `181` both have digit `1` at position 1, so they should be appended to `tmp_list[1]`, and so forth. Then by taking out elements from `tmp_list` in order, the resulting intermediate output should be `[320, 130, 531, 181]`.\n",
    "\n",
    "All you need to do next is to repeat this procedure for position $k=2,3$."
   ]
  },
  {
   "cell_type": "code",
   "execution_count": 225,
   "id": "0aaedbb4",
   "metadata": {
    "pycharm": {
     "name": "#%%\n"
    }
   },
   "outputs": [],
   "source": [
    "def radix_sort(arr, print_at_iters=[]):\n",
    "    # For printing\n",
    "    if isinstance(print_at_iters, int):\n",
    "        assert print_at_iters >= 0\n",
    "        print_at_iter = [print_at_iters]\n",
    "\n",
    "    ### START YOUR CODE ###\n",
    "    digit_position = 1 # position starts from 1\n",
    "    max_num = max(arr) # maximum number in input array\n",
    "    sorted_arr = arr # make a copy of arr\n",
    "    ### END YOUR CODE ###\n",
    "\n",
    "    iteration = 0\n",
    "    if iteration in print_at_iters:\n",
    "        print(f'iteration {iteration}: {sorted_arr}')\n",
    "\n",
    "    while digit_position <= max_num:\n",
    "        ### START YOUR CODE ###\n",
    "        tmp_list = [] # Hint: initialize to a list of 10 empty lists, because there are 10 possible digits\n",
    "        for i in range(10):\n",
    "            tmp_list.append([])\n",
    "        ### END YOUR CODE ###\n",
    "\n",
    "        ### START YOUR CODE ###\n",
    "        for num in sorted_arr: # Specify the correct range of loop. Hint: Use arr or sorted_arr?\n",
    "            digit_number = int(num % (digit_position * 10) / digit_position) # Find the digit at current position. Hint: Use divide and modular\n",
    "            tmp_list[digit_number].append(num)\n",
    "        ### END YOUR CODE ###\n",
    "\n",
    "        ### START YOUR CODE ###\n",
    "        # Take the elements from tmp_list out and copy to sorted_arr, in the correct order.\n",
    "        i = 0\n",
    "        for numbers in tmp_list: # Specify the range\n",
    "            for num in numbers: # Specify the range\n",
    "                sorted_arr[i] = num\n",
    "                i += 1\n",
    "        ### END YOUR CODE ###\n",
    "\n",
    "        iteration += 1\n",
    "        if iteration in print_at_iters:\n",
    "            print(f'iteration {iteration}: {sorted_arr}')\n",
    "\n",
    "        ### START YOUR CODE ###\n",
    "        # Hint: Increase digit_position from 1 to 10, 10 to 100, and so on...\n",
    "        digit_position = digit_position * 10\n",
    "        ### END YOUR CODE ###\n",
    "\n",
    "    return sorted_arr"
   ]
  },
  {
   "cell_type": "code",
   "execution_count": 226,
   "id": "0f72d922",
   "metadata": {
    "pycharm": {
     "name": "#%%\n"
    }
   },
   "outputs": [
    {
     "name": "stdout",
     "output_type": "stream",
     "text": [
      "arr sorted: [0, 2, 2, 3, 5]\n",
      "arr1: [329, 457, 657, 839, 436, 720, 355]\n",
      "iteration 1: [720, 355, 436, 457, 657, 329, 839]\n",
      "iteration 2: [720, 329, 436, 839, 355, 457, 657]\n",
      "arr1 sorted: [329, 355, 436, 457, 657, 720, 839]\n"
     ]
    }
   ],
   "source": [
    "# Do NOT change the test code here.\n",
    "arr = [0, 5, 3, 2, 2]\n",
    "arr_sorted = radix_sort(arr)\n",
    "print('arr sorted:', arr_sorted)\n",
    "\n",
    "arr1 = [329, 457, 657, 839, 436, 720, 355]\n",
    "print('arr1:', arr1)\n",
    "arr1_sorted = radix_sort(arr1, print_at_iters=[1,2])\n",
    "print('arr1 sorted:', arr1_sorted)"
   ]
  },
  {
   "cell_type": "markdown",
   "id": "1de8cb87",
   "metadata": {
    "pycharm": {
     "name": "#%% md\n"
    }
   },
   "source": [
    "**Expected output**\n",
    "\n",
    "arr sorted: [0, 2, 2, 3, 5]\\\n",
    "arr1: [329, 457, 657, 839, 436, 720, 355]\\\n",
    "iteration 1: [720, 355, 436, 457, 657, 329, 839]\\\n",
    "iteration 2: [720, 329, 436, 839, 355, 457, 657]\\\n",
    "arr1 sorted: [329, 355, 436, 457, 657, 720, 839]"
   ]
  },
  {
   "cell_type": "code",
   "execution_count": null,
   "id": "9c2025b5",
   "metadata": {},
   "outputs": [],
   "source": []
  }
 ],
 "metadata": {
  "kernelspec": {
   "display_name": "Python 3 (ipykernel)",
   "language": "python",
   "name": "python3"
  },
  "language_info": {
   "codemirror_mode": {
    "name": "ipython",
    "version": 3
   },
   "file_extension": ".py",
   "mimetype": "text/x-python",
   "name": "python",
   "nbconvert_exporter": "python",
   "pygments_lexer": "ipython3",
   "version": "3.9.10"
  }
 },
 "nbformat": 4,
 "nbformat_minor": 5
}
